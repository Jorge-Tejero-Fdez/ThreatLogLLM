{
 "cells": [
  {
   "cell_type": "markdown",
   "metadata": {},
   "source": [
    "# NOTEBOOK QWEN 2.5 - MULTICLASS CLASSIFICATION AND MITIGATION GENERATION (FINE-TUNING)\n",
    "\n",
    "This notebook evaluates the Qwen LLM using fine-tuning for two tasks:\n",
    "- Multiclass classification of network attacks.\n",
    "- Generation of specific mitigations based on the identified attack type."
   ]
  },
  {
   "cell_type": "markdown",
   "metadata": {},
   "source": [
    "## 1. OBJECTIVES\n",
    "\n",
    "The objective of this notebook is to evaluate the performance of the Qwen LLM in a **fine-tuned multiclass classification** setting, followed by **mitigation generation** based on the identified attack type.\n",
    "\n",
    "Specifically, this notebook aims to:\n",
    "- Assess the model's ability to classify logs into multiple attack categories after fine-tuning on labeled data.\n",
    "- Generate appropriate mitigation strategies for each predicted attack.\n",
    "- Evaluate the model's potential for automated threat response in IoT systems."
   ]
  },
  {
   "cell_type": "markdown",
   "metadata": {},
   "source": [
    "## 2. IMPORTS AND SETUP\n",
    "Import the required python libraries, preprocessing, training (fine-tuning) and evaluation."
   ]
  },
  {
   "cell_type": "code",
   "execution_count": 1,
   "metadata": {},
   "outputs": [
    {
     "name": "stderr",
     "output_type": "stream",
     "text": [
      "/home/jorge/TFM/threatlogllm/lib/python3.12/site-packages/tqdm/auto.py:21: TqdmWarning: IProgress not found. Please update jupyter and ipywidgets. See https://ipywidgets.readthedocs.io/en/stable/user_install.html\n",
      "  from .autonotebook import tqdm as notebook_tqdm\n"
     ]
    },
    {
     "name": "stdout",
     "output_type": "stream",
     "text": [
      "🦥 Unsloth: Will patch your computer to enable 2x faster free finetuning.\n",
      "🦥 Unsloth Zoo will now patch everything to make training faster!\n",
      "\n",
      "    _|    _|  _|    _|    _|_|_|    _|_|_|  _|_|_|  _|      _|    _|_|_|      _|_|_|_|    _|_|      _|_|_|  _|_|_|_|\n",
      "    _|    _|  _|    _|  _|        _|          _|    _|_|    _|  _|            _|        _|    _|  _|        _|\n",
      "    _|_|_|_|  _|    _|  _|  _|_|  _|  _|_|    _|    _|  _|  _|  _|  _|_|      _|_|_|    _|_|_|_|  _|        _|_|_|\n",
      "    _|    _|  _|    _|  _|    _|  _|    _|    _|    _|    _|_|  _|    _|      _|        _|    _|  _|        _|\n",
      "    _|    _|    _|_|      _|_|_|    _|_|_|  _|_|_|  _|      _|    _|_|_|      _|        _|    _|    _|_|_|  _|_|_|_|\n",
      "\n"
     ]
    }
   ],
   "source": [
    "# pandas, json, re, tqdm and os imports\n",
    "import pandas as pd\n",
    "import json\n",
    "import os\n",
    "import re\n",
    "from tqdm import tqdm\n",
    "# visualization imports\n",
    "import matplotlib.pyplot as plt\n",
    "import seaborn as sns\n",
    "# imports for LLM training\n",
    "from datasets import Dataset, DatasetDict\n",
    "from huggingface_hub import interpreter_login\n",
    "from transformers import (\n",
    "    TrainingArguments,\n",
    "    EarlyStoppingCallback\n",
    ")\n",
    "from trl import SFTTrainer\n",
    "from unsloth import FastLanguageModel, is_bfloat16_supported\n",
    "# imports for evaluation\n",
    "from sklearn.metrics import accuracy_score, precision_score, recall_score, f1_score, classification_report, confusion_matrix\n",
    "from sentence_transformers import SentenceTransformer, util\n",
    "from rouge_score import rouge_scorer\n",
    "\n",
    "# Login to Hugging Face Hub\n",
    "interpreter_login()"
   ]
  },
  {
   "cell_type": "markdown",
   "metadata": {},
   "source": [
    "## 3. PREPARE DATASET\n",
    "\n",
    "The dataset is split into 70% for training, 15% for validation, and 15% for testing. The model is fine-tuned on the training set while using the validation set to monitor performance during training. After fine-tuning, the final evaluation is performed on the test set."
   ]
  },
  {
   "cell_type": "code",
   "execution_count": 2,
   "metadata": {},
   "outputs": [
    {
     "name": "stdout",
     "output_type": "stream",
     "text": [
      "{'text': 'Below is an instruction that describes a task, paired with an input that provides further context. Write a response that appropriately completes the request. Before answering, think carefully about the question and create a step-by-step chain of thoughts to ensure a logical and accurate response.\\n### Instruction:\\nYou are a cybersecurity expert specializing in IoT security. Your task is to analyze network logs and determine whether the given log data indicates a potential attack. Only provide the type of attack if it is an attack. If the log data is normal traffic, state that it is normal traffic. If it is an attack, also include 4 to 5 specific technical mitigations.\\n### Question:\\n- The length of the DNS query is: 0.0\\n- The MQTT protocol name used is: 0.0\\n- The MQTT message type is: 0.0\\n- The MQTT topic is: 0.0\\n- The MQTT connection acknowledgment flags are: 0.0\\n- TCP options set in the packet are: 0101080a9eb23b7d9b24a80c\\n- TCP destination port is: 44090.0\\n### Response:\\n<think>\\nThis log data is an attack!! The type of attack detected is SQL_injection.\\n\\nMitigations:\\n- Implement a request validation layer before processing any user input to ensure that all inputs are within expected formats and do not contain malicious patterns.\\n- Use parameterized queries in database interactions to prevent direct injection of user data into SQL statements.\\n- Enforce strict input filtering using regular expressions to remove any unwanted characters that could be used in SQL injection attacks.\\n- Maintain a whitelist of allowed characters and only permit those in the input fields, rejecting anything else.\\n</think>'}\n"
     ]
    }
   ],
   "source": [
    "# Define file path\n",
    "file_path = \"../../../data/prompts/multiclass_instructions_with_mitigations.jsonl\"\n",
    "\n",
    "# Check if file exists\n",
    "if not os.path.exists(file_path):\n",
    "    raise FileNotFoundError(f\"The file {file_path} does not exist.\")\n",
    "\n",
    "# Read JSONL file line by line\n",
    "samples = []\n",
    "with open(file_path, \"r\", encoding=\"utf-8\") as f:\n",
    "    for line in f:\n",
    "        sample = json.loads(line.strip())  # Load each line as a JSON object\n",
    "        samples.append({\"text\": sample[\"Prompt\"]})  # Extract the prompt field\n",
    "\n",
    "# Convert into Hugging Face Dataset format\n",
    "dataset_dict = {\"full\": Dataset.from_list(samples)}\n",
    "dataset = DatasetDict(dataset_dict)\n",
    "\n",
    "# Verify first example\n",
    "print(dataset[\"full\"][0])"
   ]
  },
  {
   "cell_type": "code",
   "execution_count": 3,
   "metadata": {},
   "outputs": [
    {
     "name": "stdout",
     "output_type": "stream",
     "text": [
      "Train Samples: 10500\n",
      "Validation Samples: 2250\n",
      "Test Samples: 2250\n"
     ]
    }
   ],
   "source": [
    "# Shuffle the dataset\n",
    "dataset = dataset[\"full\"].shuffle(seed=42)\n",
    "\n",
    "# Split dataset into train (70%), validation (15%), test (15%)\n",
    "train_size = int(0.7 * len(dataset))\n",
    "val_size = int(0.15 * len(dataset))\n",
    "\n",
    "# Transform dataset into train, validation, and test sets\n",
    "train_dataset = dataset.select(range(train_size))\n",
    "val_dataset = dataset.select(range(train_size, train_size + val_size))\n",
    "test_dataset = dataset.select(range(train_size + val_size, len(dataset)))\n",
    "\n",
    "# Print sizes\n",
    "print(f\"Train Samples: {len(train_dataset)}\")\n",
    "print(f\"Validation Samples: {len(val_dataset)}\")\n",
    "print(f\"Test Samples: {len(test_dataset)}\")"
   ]
  },
  {
   "cell_type": "markdown",
   "metadata": {},
   "source": [
    "## 4. PREPARE LLM\n",
    "\n",
    "Load the Qwen language model from Unsloth with specific configuration parameters for fine-tuning."
   ]
  },
  {
   "cell_type": "code",
   "execution_count": 4,
   "metadata": {},
   "outputs": [
    {
     "name": "stdout",
     "output_type": "stream",
     "text": [
      "==((====))==  Unsloth 2025.2.15: Fast Qwen2 patching. Transformers: 4.49.0.\n",
      "   \\\\   /|    GPU: NVIDIA GeForce RTX 4060 Laptop GPU. Max memory: 7.996 GB. Platform: Linux.\n",
      "O^O/ \\_/ \\    Torch: 2.6.0+cu124. CUDA: 8.9. CUDA Toolkit: 12.4. Triton: 3.2.0\n",
      "\\        /    Bfloat16 = TRUE. FA [Xformers = 0.0.29.post2. FA2 = False]\n",
      " \"-____-\"     Free Apache license: http://github.com/unslothai/unsloth\n",
      "Unsloth: Fast downloading is enabled - ignore downloading bars which are red colored!\n"
     ]
    }
   ],
   "source": [
    "# Define model loading parameters\n",
    "max_seq_length = 2048 \n",
    "dtype = None \n",
    "load_in_4bit = True\n",
    "\n",
    "# Load the Qwen LLM with Unsloth's FastLanguageModel utility\n",
    "model, tokenizer = FastLanguageModel.from_pretrained(\n",
    "    model_name = \"unsloth/Qwen2.5-7B-Instruct-bnb-4bit\",\n",
    "    max_seq_length = max_seq_length,\n",
    "    dtype = dtype,\n",
    "    load_in_4bit = load_in_4bit,\n",
    ")"
   ]
  },
  {
   "cell_type": "code",
   "execution_count": 5,
   "metadata": {},
   "outputs": [
    {
     "name": "stderr",
     "output_type": "stream",
     "text": [
      "<>:15: SyntaxWarning: invalid escape sequence '\\T'\n",
      "<>:15: SyntaxWarning: invalid escape sequence '\\T'\n",
      "/tmp/ipykernel_103282/2511464564.py:15: SyntaxWarning: invalid escape sequence '\\T'\n",
      "  print(f\"\\There are {len(too_long)} examples that exceed {max_seq_length} tokens.\")\n",
      "Map: 100%|██████████| 10500/10500 [00:13<00:00, 790.68 examples/s] \n"
     ]
    },
    {
     "name": "stdout",
     "output_type": "stream",
     "text": [
      "Statistics of the number of tokens in the training dataset:\n",
      "count    10500.000000\n",
      "mean       354.747429\n",
      "std         47.799467\n",
      "min        224.000000\n",
      "25%        335.000000\n",
      "50%        358.000000\n",
      "75%        365.000000\n",
      "max        475.000000\n",
      "dtype: float64\n"
     ]
    },
    {
     "name": "stderr",
     "output_type": "stream",
     "text": [
      "Filter: 100%|██████████| 10500/10500 [00:00<00:00, 212573.81 examples/s]"
     ]
    },
    {
     "name": "stdout",
     "output_type": "stream",
     "text": [
      "\\There are 0 examples that exceed 2048 tokens.\n"
     ]
    },
    {
     "name": "stderr",
     "output_type": "stream",
     "text": [
      "\n"
     ]
    }
   ],
   "source": [
    "# Calculate the number of tokens in each example\n",
    "def count_tokens(example):\n",
    "    return {\"num_tokens\": len(tokenizer(example[\"text\"])[\"input_ids\"])}\n",
    "\n",
    "# Add the column with the number of tokens to the dataset\n",
    "train_dataset = train_dataset.map(count_tokens)\n",
    "\n",
    "# View statistics of the number of tokens\n",
    "num_tokens_list = train_dataset[\"num_tokens\"]\n",
    "print(\"Statistics of the number of tokens in the training dataset:\")\n",
    "print(pd.Series(num_tokens_list).describe())\n",
    "\n",
    "# View large examples\n",
    "too_long = train_dataset.filter(lambda x: x[\"num_tokens\"] > max_seq_length)\n",
    "print(f\"\\There are {len(too_long)} examples that exceed {max_seq_length} tokens.\")\n",
    "train_dataset = train_dataset.remove_columns([\"num_tokens\"])"
   ]
  },
  {
   "cell_type": "code",
   "execution_count": 6,
   "metadata": {},
   "outputs": [
    {
     "name": "stderr",
     "output_type": "stream",
     "text": [
      "Unsloth 2025.2.15 patched 28 layers with 28 QKV layers, 28 O layers and 28 MLP layers.\n"
     ]
    },
    {
     "data": {
      "text/plain": [
       "PeftModelForCausalLM(\n",
       "  (base_model): LoraModel(\n",
       "    (model): Qwen2ForCausalLM(\n",
       "      (model): Qwen2Model(\n",
       "        (embed_tokens): Embedding(152064, 3584, padding_idx=151654)\n",
       "        (layers): ModuleList(\n",
       "          (0-27): 28 x Qwen2DecoderLayer(\n",
       "            (self_attn): Qwen2Attention(\n",
       "              (q_proj): lora.Linear4bit(\n",
       "                (base_layer): Linear4bit(in_features=3584, out_features=3584, bias=True)\n",
       "                (lora_dropout): ModuleDict(\n",
       "                  (default): Identity()\n",
       "                )\n",
       "                (lora_A): ModuleDict(\n",
       "                  (default): Linear(in_features=3584, out_features=16, bias=False)\n",
       "                )\n",
       "                (lora_B): ModuleDict(\n",
       "                  (default): Linear(in_features=16, out_features=3584, bias=False)\n",
       "                )\n",
       "                (lora_embedding_A): ParameterDict()\n",
       "                (lora_embedding_B): ParameterDict()\n",
       "                (lora_magnitude_vector): ModuleDict()\n",
       "              )\n",
       "              (k_proj): lora.Linear4bit(\n",
       "                (base_layer): Linear4bit(in_features=3584, out_features=512, bias=True)\n",
       "                (lora_dropout): ModuleDict(\n",
       "                  (default): Identity()\n",
       "                )\n",
       "                (lora_A): ModuleDict(\n",
       "                  (default): Linear(in_features=3584, out_features=16, bias=False)\n",
       "                )\n",
       "                (lora_B): ModuleDict(\n",
       "                  (default): Linear(in_features=16, out_features=512, bias=False)\n",
       "                )\n",
       "                (lora_embedding_A): ParameterDict()\n",
       "                (lora_embedding_B): ParameterDict()\n",
       "                (lora_magnitude_vector): ModuleDict()\n",
       "              )\n",
       "              (v_proj): lora.Linear4bit(\n",
       "                (base_layer): Linear4bit(in_features=3584, out_features=512, bias=True)\n",
       "                (lora_dropout): ModuleDict(\n",
       "                  (default): Identity()\n",
       "                )\n",
       "                (lora_A): ModuleDict(\n",
       "                  (default): Linear(in_features=3584, out_features=16, bias=False)\n",
       "                )\n",
       "                (lora_B): ModuleDict(\n",
       "                  (default): Linear(in_features=16, out_features=512, bias=False)\n",
       "                )\n",
       "                (lora_embedding_A): ParameterDict()\n",
       "                (lora_embedding_B): ParameterDict()\n",
       "                (lora_magnitude_vector): ModuleDict()\n",
       "              )\n",
       "              (o_proj): lora.Linear4bit(\n",
       "                (base_layer): Linear4bit(in_features=3584, out_features=3584, bias=False)\n",
       "                (lora_dropout): ModuleDict(\n",
       "                  (default): Identity()\n",
       "                )\n",
       "                (lora_A): ModuleDict(\n",
       "                  (default): Linear(in_features=3584, out_features=16, bias=False)\n",
       "                )\n",
       "                (lora_B): ModuleDict(\n",
       "                  (default): Linear(in_features=16, out_features=3584, bias=False)\n",
       "                )\n",
       "                (lora_embedding_A): ParameterDict()\n",
       "                (lora_embedding_B): ParameterDict()\n",
       "                (lora_magnitude_vector): ModuleDict()\n",
       "              )\n",
       "              (rotary_emb): LlamaRotaryEmbedding()\n",
       "            )\n",
       "            (mlp): Qwen2MLP(\n",
       "              (gate_proj): lora.Linear4bit(\n",
       "                (base_layer): Linear4bit(in_features=3584, out_features=18944, bias=False)\n",
       "                (lora_dropout): ModuleDict(\n",
       "                  (default): Identity()\n",
       "                )\n",
       "                (lora_A): ModuleDict(\n",
       "                  (default): Linear(in_features=3584, out_features=16, bias=False)\n",
       "                )\n",
       "                (lora_B): ModuleDict(\n",
       "                  (default): Linear(in_features=16, out_features=18944, bias=False)\n",
       "                )\n",
       "                (lora_embedding_A): ParameterDict()\n",
       "                (lora_embedding_B): ParameterDict()\n",
       "                (lora_magnitude_vector): ModuleDict()\n",
       "              )\n",
       "              (up_proj): lora.Linear4bit(\n",
       "                (base_layer): Linear4bit(in_features=3584, out_features=18944, bias=False)\n",
       "                (lora_dropout): ModuleDict(\n",
       "                  (default): Identity()\n",
       "                )\n",
       "                (lora_A): ModuleDict(\n",
       "                  (default): Linear(in_features=3584, out_features=16, bias=False)\n",
       "                )\n",
       "                (lora_B): ModuleDict(\n",
       "                  (default): Linear(in_features=16, out_features=18944, bias=False)\n",
       "                )\n",
       "                (lora_embedding_A): ParameterDict()\n",
       "                (lora_embedding_B): ParameterDict()\n",
       "                (lora_magnitude_vector): ModuleDict()\n",
       "              )\n",
       "              (down_proj): lora.Linear4bit(\n",
       "                (base_layer): Linear4bit(in_features=18944, out_features=3584, bias=False)\n",
       "                (lora_dropout): ModuleDict(\n",
       "                  (default): Identity()\n",
       "                )\n",
       "                (lora_A): ModuleDict(\n",
       "                  (default): Linear(in_features=18944, out_features=16, bias=False)\n",
       "                )\n",
       "                (lora_B): ModuleDict(\n",
       "                  (default): Linear(in_features=16, out_features=3584, bias=False)\n",
       "                )\n",
       "                (lora_embedding_A): ParameterDict()\n",
       "                (lora_embedding_B): ParameterDict()\n",
       "                (lora_magnitude_vector): ModuleDict()\n",
       "              )\n",
       "              (act_fn): SiLU()\n",
       "            )\n",
       "            (input_layernorm): Qwen2RMSNorm((3584,), eps=1e-06)\n",
       "            (post_attention_layernorm): Qwen2RMSNorm((3584,), eps=1e-06)\n",
       "          )\n",
       "        )\n",
       "        (norm): Qwen2RMSNorm((3584,), eps=1e-06)\n",
       "        (rotary_emb): LlamaRotaryEmbedding()\n",
       "      )\n",
       "      (lm_head): Linear(in_features=3584, out_features=152064, bias=False)\n",
       "    )\n",
       "  )\n",
       ")"
      ]
     },
     "execution_count": 6,
     "metadata": {},
     "output_type": "execute_result"
    }
   ],
   "source": [
    "# Get the model's config\n",
    "model = FastLanguageModel.get_peft_model(\n",
    "    model,\n",
    "    r=16,  \n",
    "    target_modules=[\n",
    "        \"q_proj\", \"k_proj\", \"v_proj\", \"o_proj\", \"gate_proj\",\n",
    "        \"up_proj\", \"down_proj\"\n",
    "    ],\n",
    "    lora_alpha=16,\n",
    "    lora_dropout=0,  \n",
    "    bias=\"none\",\n",
    "    use_gradient_checkpointing=\"unsloth\",  \n",
    "    random_state=3407,\n",
    "    use_rslora=False,\n",
    "    loftq_config=None,\n",
    ")\n",
    "\n",
    "# Reach the model for training\n",
    "FastLanguageModel.for_training(model)"
   ]
  },
  {
   "cell_type": "markdown",
   "metadata": {},
   "source": [
    "## 5. PREPARE DATASET WITH EOS\n",
    "\n",
    "In this section, each sample in the dataset is formatted to include an end-of-sentence (EOS) token.  \n",
    "This ensures proper termination of sequences during training and improves model understanding of prompt boundaries."
   ]
  },
  {
   "cell_type": "code",
   "execution_count": 7,
   "metadata": {},
   "outputs": [
    {
     "name": "stderr",
     "output_type": "stream",
     "text": [
      "Map: 100%|██████████| 10500/10500 [00:00<00:00, 180378.74 examples/s]\n",
      "Map: 100%|██████████| 2250/2250 [00:00<00:00, 151815.96 examples/s]\n",
      "Map: 100%|██████████| 2250/2250 [00:00<00:00, 151207.84 examples/s]"
     ]
    },
    {
     "name": "stdout",
     "output_type": "stream",
     "text": [
      "Below is an instruction that describes a task, paired with an input that provides further context. Write a response that appropriately completes the request. Before answering, think carefully about the question and create a step-by-step chain of thoughts to ensure a logical and accurate response.\n",
      "### Instruction:\n",
      "You are a cybersecurity expert specializing in IoT security. Your task is to analyze network logs and determine whether the given log data indicates a potential attack. Only provide the type of attack if it is an attack. If the log data is normal traffic, state that it is normal traffic. If it is an attack, also include 4 to 5 specific technical mitigations.\n",
      "### Question:\n",
      "- The length of the DNS query is: 0.0\n",
      "- The MQTT protocol name used is: 0.0\n",
      "- The MQTT message type is: 0.0\n",
      "- The MQTT topic is: 0.0\n",
      "- The MQTT connection acknowledgment flags are: 0.0\n",
      "- TCP options set in the packet are: 0101080a408622684a074d26\n",
      "- TCP destination port is: 80.0\n",
      "### Response:\n",
      "<think>\n",
      "This log data is an attack!! The type of attack detected is Uploading.\n",
      "\n",
      "Mitigations:\n",
      "- Enforce strict input validation using sanitization libraries like `sanitize.py` or `uv sanitize` for Python-based endpoints.\n",
      "- Use predefined allowed character sets for input fields, blocking any invalid characters during submission.\n",
      "- Implement a secure code injection prevention mechanism in all IoT devices by disabling eval, exec, or similar functions when processing user inputs.\n",
      "- Update firmware to use validated and signed code modules, ensuring no arbitrary code execution paths exist.\n",
      "</think><|im_end|>\n"
     ]
    },
    {
     "name": "stderr",
     "output_type": "stream",
     "text": [
      "\n"
     ]
    }
   ],
   "source": [
    "EOS_TOKEN = tokenizer.eos_token  # Ensure each training sample has an EOS token\n",
    "\n",
    "# Formatting function to structure data properly\n",
    "def formatting_prompts_func(examples):\n",
    "    texts = []\n",
    "    for entry in examples[\"text\"]:  # \"text\" is the key in our dataset\n",
    "        text = entry + EOS_TOKEN  # Append EOS token\n",
    "        texts.append(text)\n",
    "    return {\"text\": texts}\n",
    "\n",
    "# Apply formatting\n",
    "train_dataset = train_dataset.map(formatting_prompts_func, batched=True)\n",
    "val_dataset = val_dataset.map(formatting_prompts_func, batched=True)\n",
    "test_dataset = test_dataset.map(formatting_prompts_func, batched=True)\n",
    "\n",
    "# Print an example formatted sample\n",
    "print(train_dataset[\"text\"][0])"
   ]
  },
  {
   "cell_type": "markdown",
   "metadata": {},
   "source": [
    "## 6. INITIALIZE THE SFTTrainer FOR FINE-TUNING\n",
    "\n",
    "This section initializes the `SFTTrainer` with the model, tokenizer, and prepared datasets.  \n",
    "It sets training arguments such as learning rate, batch size, evaluation strategy, and checkpointing.  \n",
    "The model will be fine-tuned using supervised learning and validated on the evaluation set."
   ]
  },
  {
   "cell_type": "code",
   "execution_count": 8,
   "metadata": {},
   "outputs": [
    {
     "name": "stderr",
     "output_type": "stream",
     "text": [
      "Map (num_proc=2): 100%|██████████| 10500/10500 [00:04<00:00, 2371.79 examples/s]\n",
      "Map (num_proc=2): 100%|██████████| 2250/2250 [00:01<00:00, 1395.42 examples/s]\n"
     ]
    }
   ],
   "source": [
    "# Prepare the trainer, with SFTTrainer and TrainingArguments\n",
    "trainer = SFTTrainer(\n",
    "    model=model,\n",
    "    tokenizer=tokenizer,\n",
    "    train_dataset=train_dataset,\n",
    "    eval_dataset=val_dataset,\n",
    "    max_seq_length=max_seq_length,\n",
    "    dataset_num_proc=2,\n",
    "    args=TrainingArguments(\n",
    "        per_device_train_batch_size=2,\n",
    "        gradient_accumulation_steps=4,\n",
    "        warmup_steps=5,\n",
    "        max_steps=1000,\n",
    "        learning_rate=2e-4,\n",
    "        fp16=not is_bfloat16_supported(),\n",
    "        bf16=is_bfloat16_supported(),\n",
    "        logging_steps=10,\n",
    "        optim=\"adamw_8bit\",\n",
    "        weight_decay=0.01,\n",
    "        lr_scheduler_type=\"linear\",\n",
    "        seed=3407,\n",
    "        output_dir=\"outputs_qwen_mit\",\n",
    "        eval_strategy=\"steps\",  \n",
    "        save_strategy=\"steps\",  \n",
    "        save_total_limit=2,  \n",
    "        metric_for_best_model=\"eval_loss\", \n",
    "        load_best_model_at_end=True,  \n",
    "        greater_is_better=False,  \n",
    "    ),\n",
    "    callbacks=[EarlyStoppingCallback(early_stopping_patience=3)],  # Stop if loss doesn't improve in 3 evaluations\n",
    ")"
   ]
  },
  {
   "cell_type": "markdown",
   "metadata": {},
   "source": [
    "## 7. TRAINING MODEL\n",
    "\n",
    "In this section, the model is fine-tuned for up to 1000 steps.  \n",
    "Evaluation is performed on the validation set every 10 steps, and early stopping is applied if no improvement is observed for 3 consecutive evaluations."
   ]
  },
  {
   "cell_type": "code",
   "execution_count": 9,
   "metadata": {},
   "outputs": [
    {
     "name": "stderr",
     "output_type": "stream",
     "text": [
      "==((====))==  Unsloth - 2x faster free finetuning | Num GPUs = 1\n",
      "   \\\\   /|    Num examples = 10,500 | Num Epochs = 1\n",
      "O^O/ \\_/ \\    Batch size per device = 2 | Gradient Accumulation steps = 4\n",
      "\\        /    Total batch size = 8 | Total steps = 1,000\n",
      " \"-____-\"     Number of trainable parameters = 40,370,176\n"
     ]
    },
    {
     "data": {
      "text/html": [
       "\n",
       "    <div>\n",
       "      \n",
       "      <progress value='390' max='1000' style='width:300px; height:20px; vertical-align: middle;'></progress>\n",
       "      [ 390/1000 7:56:18 < 12:28:50, 0.01 it/s, Epoch 0/1]\n",
       "    </div>\n",
       "    <table border=\"1\" class=\"dataframe\">\n",
       "  <thead>\n",
       " <tr style=\"text-align: left;\">\n",
       "      <th>Step</th>\n",
       "      <th>Training Loss</th>\n",
       "      <th>Validation Loss</th>\n",
       "    </tr>\n",
       "  </thead>\n",
       "  <tbody>\n",
       "    <tr>\n",
       "      <td>10</td>\n",
       "      <td>2.139700</td>\n",
       "      <td>1.269089</td>\n",
       "    </tr>\n",
       "    <tr>\n",
       "      <td>20</td>\n",
       "      <td>0.756800</td>\n",
       "      <td>0.439487</td>\n",
       "    </tr>\n",
       "    <tr>\n",
       "      <td>30</td>\n",
       "      <td>0.344000</td>\n",
       "      <td>0.243448</td>\n",
       "    </tr>\n",
       "    <tr>\n",
       "      <td>40</td>\n",
       "      <td>0.164300</td>\n",
       "      <td>0.125044</td>\n",
       "    </tr>\n",
       "    <tr>\n",
       "      <td>50</td>\n",
       "      <td>0.105800</td>\n",
       "      <td>0.093562</td>\n",
       "    </tr>\n",
       "    <tr>\n",
       "      <td>60</td>\n",
       "      <td>0.083100</td>\n",
       "      <td>0.088730</td>\n",
       "    </tr>\n",
       "    <tr>\n",
       "      <td>70</td>\n",
       "      <td>0.087900</td>\n",
       "      <td>0.085798</td>\n",
       "    </tr>\n",
       "    <tr>\n",
       "      <td>80</td>\n",
       "      <td>0.091500</td>\n",
       "      <td>0.084684</td>\n",
       "    </tr>\n",
       "    <tr>\n",
       "      <td>90</td>\n",
       "      <td>0.077200</td>\n",
       "      <td>0.081442</td>\n",
       "    </tr>\n",
       "    <tr>\n",
       "      <td>100</td>\n",
       "      <td>0.080000</td>\n",
       "      <td>0.081778</td>\n",
       "    </tr>\n",
       "    <tr>\n",
       "      <td>110</td>\n",
       "      <td>0.082500</td>\n",
       "      <td>0.078850</td>\n",
       "    </tr>\n",
       "    <tr>\n",
       "      <td>120</td>\n",
       "      <td>0.067200</td>\n",
       "      <td>0.077362</td>\n",
       "    </tr>\n",
       "    <tr>\n",
       "      <td>130</td>\n",
       "      <td>0.082800</td>\n",
       "      <td>0.075891</td>\n",
       "    </tr>\n",
       "    <tr>\n",
       "      <td>140</td>\n",
       "      <td>0.077300</td>\n",
       "      <td>0.075023</td>\n",
       "    </tr>\n",
       "    <tr>\n",
       "      <td>150</td>\n",
       "      <td>0.069200</td>\n",
       "      <td>0.074673</td>\n",
       "    </tr>\n",
       "    <tr>\n",
       "      <td>160</td>\n",
       "      <td>0.074700</td>\n",
       "      <td>0.072503</td>\n",
       "    </tr>\n",
       "    <tr>\n",
       "      <td>170</td>\n",
       "      <td>0.085100</td>\n",
       "      <td>0.072219</td>\n",
       "    </tr>\n",
       "    <tr>\n",
       "      <td>180</td>\n",
       "      <td>0.070100</td>\n",
       "      <td>0.071594</td>\n",
       "    </tr>\n",
       "    <tr>\n",
       "      <td>190</td>\n",
       "      <td>0.073700</td>\n",
       "      <td>0.070222</td>\n",
       "    </tr>\n",
       "    <tr>\n",
       "      <td>200</td>\n",
       "      <td>0.069100</td>\n",
       "      <td>0.069843</td>\n",
       "    </tr>\n",
       "    <tr>\n",
       "      <td>210</td>\n",
       "      <td>0.070500</td>\n",
       "      <td>0.069533</td>\n",
       "    </tr>\n",
       "    <tr>\n",
       "      <td>220</td>\n",
       "      <td>0.068000</td>\n",
       "      <td>0.069461</td>\n",
       "    </tr>\n",
       "    <tr>\n",
       "      <td>230</td>\n",
       "      <td>0.058900</td>\n",
       "      <td>0.069096</td>\n",
       "    </tr>\n",
       "    <tr>\n",
       "      <td>240</td>\n",
       "      <td>0.062900</td>\n",
       "      <td>0.068852</td>\n",
       "    </tr>\n",
       "    <tr>\n",
       "      <td>250</td>\n",
       "      <td>0.059100</td>\n",
       "      <td>0.069155</td>\n",
       "    </tr>\n",
       "    <tr>\n",
       "      <td>260</td>\n",
       "      <td>0.059300</td>\n",
       "      <td>0.068208</td>\n",
       "    </tr>\n",
       "    <tr>\n",
       "      <td>270</td>\n",
       "      <td>0.068600</td>\n",
       "      <td>0.068930</td>\n",
       "    </tr>\n",
       "    <tr>\n",
       "      <td>280</td>\n",
       "      <td>0.080000</td>\n",
       "      <td>0.068459</td>\n",
       "    </tr>\n",
       "    <tr>\n",
       "      <td>290</td>\n",
       "      <td>0.057400</td>\n",
       "      <td>0.067658</td>\n",
       "    </tr>\n",
       "    <tr>\n",
       "      <td>300</td>\n",
       "      <td>0.074000</td>\n",
       "      <td>0.066938</td>\n",
       "    </tr>\n",
       "    <tr>\n",
       "      <td>310</td>\n",
       "      <td>0.060600</td>\n",
       "      <td>0.067226</td>\n",
       "    </tr>\n",
       "    <tr>\n",
       "      <td>320</td>\n",
       "      <td>0.067400</td>\n",
       "      <td>0.066789</td>\n",
       "    </tr>\n",
       "    <tr>\n",
       "      <td>330</td>\n",
       "      <td>0.066400</td>\n",
       "      <td>0.066370</td>\n",
       "    </tr>\n",
       "    <tr>\n",
       "      <td>340</td>\n",
       "      <td>0.077600</td>\n",
       "      <td>0.065945</td>\n",
       "    </tr>\n",
       "    <tr>\n",
       "      <td>350</td>\n",
       "      <td>0.062700</td>\n",
       "      <td>0.065966</td>\n",
       "    </tr>\n",
       "    <tr>\n",
       "      <td>360</td>\n",
       "      <td>0.068300</td>\n",
       "      <td>0.064809</td>\n",
       "    </tr>\n",
       "    <tr>\n",
       "      <td>370</td>\n",
       "      <td>0.057000</td>\n",
       "      <td>0.065575</td>\n",
       "    </tr>\n",
       "    <tr>\n",
       "      <td>380</td>\n",
       "      <td>0.070600</td>\n",
       "      <td>0.065996</td>\n",
       "    </tr>\n",
       "    <tr>\n",
       "      <td>390</td>\n",
       "      <td>0.070800</td>\n",
       "      <td>0.065514</td>\n",
       "    </tr>\n",
       "  </tbody>\n",
       "</table><p>"
      ],
      "text/plain": [
       "<IPython.core.display.HTML object>"
      ]
     },
     "metadata": {},
     "output_type": "display_data"
    },
    {
     "name": "stderr",
     "output_type": "stream",
     "text": [
      "Unsloth: Not an error, but Qwen2ForCausalLM does not accept `num_items_in_batch`.\n",
      "Using gradient accumulation will be very slightly less accurate.\n",
      "Read more on gradient accumulation issues here: https://unsloth.ai/blog/gradient\n",
      "Could not locate the best model at outputs_qwen_mit/checkpoint-360/pytorch_model.bin, if you are running a distributed training on multiple nodes, you should activate `--save_on_each_node`.\n"
     ]
    }
   ],
   "source": [
    "# Start fine-tuning\n",
    "trainer_stats = trainer.train()"
   ]
  },
  {
   "cell_type": "code",
   "execution_count": 10,
   "metadata": {},
   "outputs": [
    {
     "data": {
      "text/plain": [
       "('fine-tuned-model-attacks/qwen_finetuned_model_multi_mit/tokenizer_config.json',\n",
       " 'fine-tuned-model-attacks/qwen_finetuned_model_multi_mit/special_tokens_map.json',\n",
       " 'fine-tuned-model-attacks/qwen_finetuned_model_multi_mit/vocab.json',\n",
       " 'fine-tuned-model-attacks/qwen_finetuned_model_multi_mit/merges.txt',\n",
       " 'fine-tuned-model-attacks/qwen_finetuned_model_multi_mit/added_tokens.json',\n",
       " 'fine-tuned-model-attacks/qwen_finetuned_model_multi_mit/tokenizer.json')"
      ]
     },
     "execution_count": 10,
     "metadata": {},
     "output_type": "execute_result"
    }
   ],
   "source": [
    "# Save fine-tuned model and tokenizer\n",
    "trainer.save_model(\"fine-tuned-model-attacks/qwen_finetuned_model_multi_mit\")  # Saves model weights\n",
    "tokenizer.save_pretrained(\"fine-tuned-model-attacks/qwen_finetuned_model_multi_mit\")  # Saves tokenizer config"
   ]
  },
  {
   "cell_type": "markdown",
   "metadata": {},
   "source": [
    "### TEST ONE RESPONSE"
   ]
  },
  {
   "cell_type": "code",
   "execution_count": 11,
   "metadata": {},
   "outputs": [],
   "source": [
    "question = test_dataset[\"text\"][5]\n",
    "clean_question = re.split(r\"This\", question, maxsplit=1)[0].strip()"
   ]
  },
  {
   "cell_type": "code",
   "execution_count": 12,
   "metadata": {},
   "outputs": [
    {
     "name": "stdout",
     "output_type": "stream",
     "text": [
      "Predicted response: <think> This log data is an attack!! The type of attack detected is Vulnerability_scanner.\n",
      "\n",
      "Mitigations:\n",
      "- Limit access to IoT devices using strict role-based access control policies ensuring only authorized users can perform scans.\n",
      "- Implement network segmentation with micro-segments to isolate critical IoT components from external networks, reducing the attack surface.\n",
      "- Use encrypted communication protocols like HTTPS or TLS for all IoT device interactions to prevent information gathering during scans.\n",
      "- Enforce a no-scan policy on IoT devices by disabling vulnerability scanners or monitoring tools not approved by IT Security.\n",
      "</think>\n",
      "\n",
      "Actual response: <think>\n",
      "This log data is an attack!! The type of attack detected is Vulnerability_scanner.\n",
      "\n",
      "Mitigations:\n",
      "- Limit access to IoT devices using strict role-based access control policies ensuring only authorized users can perform scans.\n",
      "- Implement network segmentation with micro-segments to isolate critical IoT components from external networks, reducing the attack surface.\n",
      "- Use encrypted communication protocols like HTTPS or TLS for all IoT device interactions to prevent information gathering during scans.\n",
      "- Enforce a no-scan policy on IoT devices by disabling vulnerability scanners or monitoring tools not approved by IT Security.\n",
      "</think><|im_end|>\n"
     ]
    }
   ],
   "source": [
    "# Ensure the model is ready for inference\n",
    "FastLanguageModel.for_inference(model)  # Activates Unsloth's optimized inference\n",
    "\n",
    "# Tokenize the input log entry\n",
    "inputs = tokenizer([clean_question], return_tensors=\"pt\").to(\"cuda\")\n",
    "\n",
    "# Generate response from the fine-tuned model\n",
    "outputs = model.generate(\n",
    "    input_ids=inputs.input_ids,\n",
    "    attention_mask=inputs.attention_mask,\n",
    "    max_new_tokens=1000,  \n",
    "    use_cache=True,\n",
    ")\n",
    "\n",
    "# Decode and extract response\n",
    "response = tokenizer.batch_decode(outputs, skip_special_tokens=True)\n",
    "print(\"Predicted response:\",response[0].split(\"### Response:\")[1].strip(), end='\\n\\n')\n",
    "print(\"Actual response:\",re.split(r\"### Response:\", question, maxsplit=1)[1].strip())"
   ]
  },
  {
   "cell_type": "markdown",
   "metadata": {},
   "source": [
    "## 8. COMPUTE PREDICTIONS\n",
    "\n",
    "In this section, the LLM generates predictions for both the attack type and its corresponding mitigation strategy. The predicted attack labels and generated mitigations are stored in separate lists.\n",
    "\n",
    "These predictions will be used later to compute evaluation metrics and analyze the model's performance."
   ]
  },
  {
   "cell_type": "code",
   "execution_count": 13,
   "metadata": {},
   "outputs": [
    {
     "name": "stderr",
     "output_type": "stream",
     "text": [
      "Processing test samples: 100%|██████████| 2250/2250 [4:58:10<00:00,  7.95s/sample]  \n"
     ]
    }
   ],
   "source": [
    "FastLanguageModel.for_inference(model)\n",
    "\n",
    "# Define attack types for mapping\n",
    "attack_types = [\n",
    "    \"Normal\", \"DDoS_UDP\", \"DDoS_ICMP\", \"SQL_injection\", \"Password\",\n",
    "    \"Vulnerability_scanner\", \"DDoS_TCP\", \"DDoS_HTTP\", \"Uploading\", \"Backdoor\",\n",
    "    \"Port_Scanning\", \"XSS\", \"Ransomware\", \"MITM\", \"Fingerprinting\"\n",
    "]\n",
    "\n",
    "attack_type_to_id = {attack: i for i, attack in enumerate(attack_types)}\n",
    "id_to_attack_type = {i: attack for i, attack in enumerate(attack_types)}\n",
    "\n",
    "# Extract the attack type from the <think> section\n",
    "def extract_attack_from_think(text):\n",
    "    match = re.search(r\"The type of attack detected is ([A-Za-z0-9_]+)\", text)\n",
    "    if match:\n",
    "        return match.group(1)\n",
    "    return \"Normal\"\n",
    "\n",
    "# Extrcat the mitigations from the <think> section\n",
    "def extract_mitigations_from_think(text):\n",
    "    think_match = re.search(r\"<think>(.*?)</think>\", text, re.DOTALL | re.IGNORECASE)\n",
    "    if not think_match:\n",
    "        return text.strip()\n",
    "    think_content = think_match.group(1)\n",
    "    mit_match = re.search(r\"Mitigations:\\s*(.*)\", think_content, re.DOTALL | re.IGNORECASE)\n",
    "    if mit_match:\n",
    "        return mit_match.group(1).strip()\n",
    "    return think_content.strip()\n",
    "\n",
    "# List to store results\n",
    "results = []\n",
    "\n",
    "for sample in tqdm(test_dataset, desc=\"Processing test samples\", unit=\"sample\"):\n",
    "    full_text = sample[\"text\"]\n",
    "\n",
    "    # Separate input and expected response\n",
    "    if \"### Response:\" in full_text:\n",
    "        input_text, expected_response = full_text.split(\"### Response:\")\n",
    "        input_text = input_text.strip()\n",
    "        expected_response = expected_response.strip()\n",
    "    else:\n",
    "        input_text = full_text.strip()\n",
    "        expected_response = \"Normal\"\n",
    "\n",
    "    # Obtain the expected attack and mitigation\n",
    "    actual_attack = extract_attack_from_think(expected_response)\n",
    "    actual_mitigation = extract_mitigations_from_think(expected_response)\n",
    "\n",
    "    # Tokenize the input\n",
    "    inputs = tokenizer([input_text], return_tensors=\"pt\").to(\"cuda\")\n",
    "\n",
    "    # Generate response from the model\n",
    "    outputs = model.generate(\n",
    "        input_ids=inputs.input_ids,\n",
    "        attention_mask=inputs.attention_mask,\n",
    "        max_new_tokens=1000,\n",
    "        use_cache=True,\n",
    "    )\n",
    "\n",
    "    predicted_full = tokenizer.batch_decode(outputs, skip_special_tokens=True)[0]\n",
    "\n",
    "    # Extract the predicted attack and mitigation\n",
    "    predicted_attack = extract_attack_from_think(predicted_full)\n",
    "    predicted_mitigation = extract_mitigations_from_think(predicted_full)\n",
    "\n",
    "    # Save the results\n",
    "    results.append({\n",
    "        \"attack_pred\": predicted_attack,\n",
    "        \"attack_true\": actual_attack,\n",
    "        \"mitigation_pred\": predicted_mitigation,\n",
    "        \"mitigation_true\": actual_mitigation\n",
    "    })"
   ]
  },
  {
   "cell_type": "markdown",
   "metadata": {},
   "source": [
    "## 9. Compute Evaluation Metrics\n",
    "\n",
    "In this section, standard evaluation metrics are computed to assess the model's performance. These include Accuracy, Precision, Recall, F1-Score, and the Confusion Matrix.\n"
   ]
  },
  {
   "cell_type": "markdown",
   "metadata": {},
   "source": [
    "### GENERAL METRICS"
   ]
  },
  {
   "cell_type": "code",
   "execution_count": 14,
   "metadata": {},
   "outputs": [],
   "source": [
    "def evaluate_predictions(results):\n",
    "    y_pred_attack = [r[\"attack_pred\"] for r in results]\n",
    "    y_true_attack = [r[\"attack_true\"] for r in results]\n",
    "\n",
    "    attack_metrics = {\n",
    "        \"accuracy\": accuracy_score(y_true_attack, y_pred_attack),\n",
    "        \"precision\": precision_score(y_true_attack, y_pred_attack, average=\"weighted\", zero_division=0),\n",
    "        \"recall\": recall_score(y_true_attack, y_pred_attack, average=\"weighted\", zero_division=0),\n",
    "        \"f1\": f1_score(y_true_attack, y_pred_attack, average=\"weighted\", zero_division=0),\n",
    "    }\n",
    "\n",
    "    embed_model = SentenceTransformer('all-MiniLM-L6-v2')\n",
    "    rouge = rouge_scorer.RougeScorer(['rougeL'], use_stemmer=True)\n",
    "\n",
    "    rougeL_scores = []\n",
    "    cosine_similarities = []\n",
    "\n",
    "    for r in results:\n",
    "        pred_mit = r[\"mitigation_pred\"]\n",
    "        true_mit = r[\"mitigation_true\"]\n",
    "\n",
    "        rouge_score = rouge.score(true_mit, pred_mit)['rougeL'].fmeasure\n",
    "        rougeL_scores.append(rouge_score)\n",
    "\n",
    "        emb_pred = embed_model.encode(pred_mit, convert_to_tensor=True)\n",
    "        emb_true = embed_model.encode(true_mit, convert_to_tensor=True)\n",
    "        cosine_score = util.cos_sim(emb_pred, emb_true).item()\n",
    "        cosine_similarities.append(cosine_score)\n",
    "\n",
    "    mitigation_metrics = {\n",
    "        \"rougeL_f1\": sum(rougeL_scores) / len(rougeL_scores),\n",
    "        \"cosine_similarity\": sum(cosine_similarities) / len(cosine_similarities)\n",
    "    }\n",
    "\n",
    "    df_results = pd.DataFrame(results)\n",
    "    df_results[\"rougeL\"] = rougeL_scores\n",
    "    df_results[\"cosine_similarity\"] = cosine_similarities\n",
    "\n",
    "    return attack_metrics, mitigation_metrics, df_results\n"
   ]
  },
  {
   "cell_type": "code",
   "execution_count": 19,
   "metadata": {},
   "outputs": [
    {
     "name": "stdout",
     "output_type": "stream",
     "text": [
      "General Classification Metrics\n",
      "\n",
      "\n",
      "Attack Classification Metrics:\n",
      "accuracy: 0.4151\n",
      "precision: 0.4639\n",
      "recall: 0.4151\n",
      "f1: 0.3978\n",
      "\n",
      "Mitigation Generation Metrics:\n",
      "rougeL_f1: 0.4992\n",
      "cosine_similarity: 0.7340\n"
     ]
    }
   ],
   "source": [
    "attack_metrics, mitigation_metrics, df_eval = evaluate_predictions(results)\n",
    "\n",
    "print(\"General Classification Metrics\")\n",
    "print(\"\\n\\nAttack Classification Metrics:\")\n",
    "for k, v in attack_metrics.items():\n",
    "    print(f\"{k}: {v:.4f}\")\n",
    "\n",
    "print(\"\\nMitigation Generation Metrics:\")\n",
    "for k, v in mitigation_metrics.items():\n",
    "    print(f\"{k}: {v:.4f}\")\n",
    "\n",
    "# (Opcional) guardar resultados\n",
    "df_eval.to_csv(\"evaluation_results.csv\", index=False)"
   ]
  },
  {
   "cell_type": "markdown",
   "metadata": {},
   "source": [
    "### METRICS PER CLASS"
   ]
  },
  {
   "cell_type": "code",
   "execution_count": 16,
   "metadata": {},
   "outputs": [],
   "source": [
    "def evaluate_predictions_by_class(results):\n",
    "    y_pred_attack = [r[\"attack_pred\"] for r in results]\n",
    "    y_true_attack = [r[\"attack_true\"] for r in results]\n",
    "\n",
    "    # General attack metrics\n",
    "    attack_metrics = {\n",
    "        \"accuracy\": accuracy_score(y_true_attack, y_pred_attack),\n",
    "        \"precision\": precision_score(y_true_attack, y_pred_attack, average=\"weighted\", zero_division=0),\n",
    "        \"recall\": recall_score(y_true_attack, y_pred_attack, average=\"weighted\", zero_division=0),\n",
    "        \"f1\": f1_score(y_true_attack, y_pred_attack, average=\"weighted\", zero_division=0),\n",
    "    }\n",
    "\n",
    "    # Detailed classification report\n",
    "    attack_metrics_by_class = classification_report(\n",
    "        y_true_attack,\n",
    "        y_pred_attack,\n",
    "        output_dict=True,\n",
    "        zero_division=0\n",
    "    )\n",
    "\n",
    "    # Embedding and ROUGE tools\n",
    "    embed_model = SentenceTransformer('all-MiniLM-L6-v2')\n",
    "    rouge = rouge_scorer.RougeScorer(['rougeL'], use_stemmer=True)\n",
    "\n",
    "    # List of mitigation scores\n",
    "    rougeL_scores = []\n",
    "    cosine_similarities = []\n",
    "    mitigation_by_attack_type = {}\n",
    "\n",
    "    for r in results:\n",
    "        attack_type = r[\"attack_true\"]\n",
    "        pred_mit = r[\"mitigation_pred\"]\n",
    "        true_mit = r[\"mitigation_true\"]\n",
    "\n",
    "        # ROUGE-L\n",
    "        rouge_score = rouge.score(true_mit, pred_mit)['rougeL'].fmeasure\n",
    "        rougeL_scores.append(rouge_score)\n",
    "\n",
    "        # Cosine similarity\n",
    "        emb_pred = embed_model.encode(pred_mit, convert_to_tensor=True)\n",
    "        emb_true = embed_model.encode(true_mit, convert_to_tensor=True)\n",
    "        cosine_score = util.cos_sim(emb_pred, emb_true).item()\n",
    "        cosine_similarities.append(cosine_score)\n",
    "\n",
    "        # Guardar para promedio por tipo de ataque\n",
    "        if attack_type not in mitigation_by_attack_type:\n",
    "            mitigation_by_attack_type[attack_type] = {\"rouge\": [], \"cosine\": []}\n",
    "        mitigation_by_attack_type[attack_type][\"rouge\"].append(rouge_score)\n",
    "        mitigation_by_attack_type[attack_type][\"cosine\"].append(cosine_score)\n",
    "\n",
    "    # Promedios generales de mitigación\n",
    "    mitigation_metrics = {\n",
    "        \"rougeL_f1\": sum(rougeL_scores) / len(rougeL_scores),\n",
    "        \"cosine_similarity\": sum(cosine_similarities) / len(cosine_similarities)\n",
    "    }\n",
    "\n",
    "    # Promedios por tipo de ataque (solo para mitigación)\n",
    "    mitigation_by_class = {\n",
    "        k: {\n",
    "            \"rougeL_f1\": sum(v[\"rouge\"]) / len(v[\"rouge\"]),\n",
    "            \"cosine_similarity\": sum(v[\"cosine\"]) / len(v[\"cosine\"])\n",
    "        }\n",
    "        for k, v in mitigation_by_attack_type.items()\n",
    "    }\n",
    "\n",
    "    # Resultado por muestra\n",
    "    df_results = pd.DataFrame(results)\n",
    "    df_results[\"rougeL\"] = rougeL_scores\n",
    "    df_results[\"cosine_similarity\"] = cosine_similarities\n",
    "\n",
    "    return attack_metrics, attack_metrics_by_class, mitigation_metrics, mitigation_by_class, df_results\n"
   ]
  },
  {
   "cell_type": "code",
   "execution_count": 20,
   "metadata": {},
   "outputs": [
    {
     "name": "stdout",
     "output_type": "stream",
     "text": [
      "\n",
      "Per-Class Performance:\n",
      "Backdoor                 : F1=0.7683 | Precision=0.6550 | Recall=0.9291\n",
      "DDoS_HTTP                : F1=0.0255 | Precision=0.2857 | Recall=0.0133\n",
      "DDoS_ICMP                : F1=0.2576 | Precision=0.2957 | Recall=0.2282\n",
      "DDoS_TCP                 : F1=0.3333 | Precision=0.5484 | Recall=0.2394\n",
      "DDoS_UDP                 : F1=0.2718 | Precision=0.2868 | Recall=0.2583\n",
      "Fingerprinting           : F1=0.3089 | Precision=0.2375 | Recall=0.4419\n",
      "MITM                     : F1=0.4558 | Precision=0.4233 | Recall=0.4938\n",
      "Normal                   : F1=1.0000 | Precision=1.0000 | Recall=1.0000\n",
      "Password                 : F1=0.0617 | Precision=0.5000 | Recall=0.0329\n",
      "Port_Scanning            : F1=0.6686 | Precision=0.6860 | Recall=0.6519\n",
      "Ransomware               : F1=0.6018 | Precision=0.9189 | Recall=0.4474\n",
      "SQL_injection            : F1=0.1697 | Precision=0.1756 | Recall=0.1643\n",
      "Uploading                : F1=0.3456 | Precision=0.3884 | Recall=0.3113\n",
      "Vulnerability_scanner    : F1=0.3220 | Precision=0.2465 | Recall=0.4641\n",
      "XSS                      : F1=0.2846 | Precision=0.2000 | Recall=0.4930\n",
      "\n",
      "Mitigation Quality per class:\n",
      "Backdoor                 : ROUGE-L=0.9411 | Cosine=0.9656\n",
      "XSS                      : ROUGE-L=0.5600 | Cosine=0.7548\n",
      "Uploading                : ROUGE-L=0.3961 | Cosine=0.7144\n",
      "SQL_injection            : ROUGE-L=0.2774 | Cosine=0.5751\n",
      "Vulnerability_scanner    : ROUGE-L=0.5293 | Cosine=0.7036\n",
      "Password                 : ROUGE-L=0.1305 | Cosine=0.4794\n",
      "Normal                   : ROUGE-L=1.0000 | Cosine=1.0000\n",
      "DDoS_ICMP                : ROUGE-L=0.3450 | Cosine=0.6556\n",
      "DDoS_HTTP                : ROUGE-L=0.1226 | Cosine=0.4297\n",
      "Port_Scanning            : ROUGE-L=0.7025 | Cosine=0.8867\n",
      "Ransomware               : ROUGE-L=0.5710 | Cosine=0.7780\n",
      "DDoS_TCP                 : ROUGE-L=0.3704 | Cosine=0.6866\n",
      "MITM                     : ROUGE-L=0.5737 | Cosine=0.7986\n",
      "DDoS_UDP                 : ROUGE-L=0.3803 | Cosine=0.7586\n",
      "Fingerprinting           : ROUGE-L=0.5405 | Cosine=0.7912\n"
     ]
    }
   ],
   "source": [
    "attack_metrics, attack_by_class, mit_metrics, mit_by_class, df_eval = evaluate_predictions_by_class(results)\n",
    "\n",
    "print(\"\\nPer-Class Performance:\")\n",
    "for label, metrics in attack_by_class.items():\n",
    "    if label in attack_types: \n",
    "        print(f\"{label:25s}: F1={metrics['f1-score']:.4f} | Precision={metrics['precision']:.4f} | Recall={metrics['recall']:.4f}\")\n",
    "\n",
    "print(\"\\nMitigation Quality per class:\")\n",
    "for attack, metrics in mit_by_class.items():\n",
    "    print(f\"{attack:25s}: ROUGE-L={metrics['rougeL_f1']:.4f} | Cosine={metrics['cosine_similarity']:.4f}\")\n"
   ]
  },
  {
   "cell_type": "code",
   "execution_count": 18,
   "metadata": {},
   "outputs": [
    {
     "data": {
      "image/png": "[encoded data removed]",
      "text/plain": [
       "<Figure size 1200x800 with 2 Axes>"
      ]
     },
     "metadata": {},
     "output_type": "display_data"
    }
   ],
   "source": [
    "# Define the attack types for the confusion matrix\n",
    "attack_types = [\n",
    "    \"Normal\", \"DDoS_UDP\", \"DDoS_ICMP\", \"SQL_injection\", \"Password\",\n",
    "    \"Vulnerability_scanner\", \"DDoS_TCP\", \"DDoS_HTTP\", \"Uploading\", \"Backdoor\",\n",
    "    \"Port_Scanning\", \"XSS\", \"Ransomware\", \"MITM\", \"Fingerprinting\"\n",
    "]\n",
    "\n",
    "# Extract actual and predicted labels\n",
    "actual_labels_str = [r[\"attack_true\"] for r in results]\n",
    "predictions_str = [r[\"attack_pred\"] for r in results]\n",
    "\n",
    "# Create the confusion matrix\n",
    "cm = confusion_matrix(actual_labels_str, predictions_str, labels=attack_types)\n",
    "\n",
    "# Create a DataFrame for better visualization\n",
    "cm_df = pd.DataFrame(cm, index=attack_types, columns=attack_types)\n",
    "\n",
    "# Plot the confusion matrix\n",
    "plt.figure(figsize=(12, 8))\n",
    "sns.heatmap(cm_df, annot=True, fmt='d', cmap='Blues', linewidths=0.5)\n",
    "\n",
    "plt.xlabel(\"Predicted Label\")\n",
    "plt.ylabel(\"True Label\")\n",
    "plt.title(\"Confusion Matrix - Qwen Multiclass fine-tuned with mitigations\")\n",
    "plt.xticks(rotation=45, ha=\"right\")\n",
    "plt.yticks(rotation=0)\n",
    "plt.tight_layout()\n",
    "plt.show()\n"
   ]
  }
 ],
 "metadata": {
  "accelerator": "GPU",
  "colab": {
   "gpuType": "T4",
   "provenance": []
  },
  "kernelspec": {
   "display_name": "threatlogllm",
   "language": "python",
   "name": "python3"
  },
  "language_info": {
   "codemirror_mode": {
    "name": "ipython",
    "version": 3
   },
   "file_extension": ".py",
   "mimetype": "text/x-python",
   "name": "python",
   "nbconvert_exporter": "python",
   "pygments_lexer": "ipython3",
   "version": "3.12.3"
  }
 },
 "nbformat": 4,
 "nbformat_minor": 0
}
