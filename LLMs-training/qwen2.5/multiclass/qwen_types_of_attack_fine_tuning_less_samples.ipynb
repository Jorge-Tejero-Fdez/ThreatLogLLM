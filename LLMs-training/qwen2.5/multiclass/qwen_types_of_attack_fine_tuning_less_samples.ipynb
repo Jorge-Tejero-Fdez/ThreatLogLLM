{
 "cells": [
  {
   "cell_type": "markdown",
   "metadata": {},
   "source": [
    "# NOTEBOOK QWEN 2.5 - MULTICLASS CLASSIFICATION (FINE-TUNING) WITH LESS SAMPLES\n",
    "\n",
    "This notebook evaluates the Qwen LLM using fine-tuning prompting for multiclass classification, distinguishing between normal or the different types of attack **with less samples**"
   ]
  },
  {
   "cell_type": "markdown",
   "metadata": {},
   "source": [
    "## 1. Objectives\n",
    "\n",
    "The objective of this notebook is to evaluate the performance of the Qwen LLM in a **fine-tuned multiclass classification** setting.\n",
    "\n",
    "Specifically, this notebook aims to:\n",
    "- Assess the model's ability to distinguish between **normal** and the **different types of attack** with prior examples.\n",
    "- Analyze its predictions and evaluate its suitability for multiclass threat detection tasks in IoT systems."
   ]
  },
  {
   "cell_type": "markdown",
   "metadata": {},
   "source": [
    "## 2. IMPORTS AND SETUP\n",
    "Import the required python libraries, preprocessing, training (fine-tuning) and evaluation."
   ]
  },
  {
   "cell_type": "code",
   "execution_count": 1,
   "metadata": {},
   "outputs": [
    {
     "name": "stderr",
     "output_type": "stream",
     "text": [
      "/home/jorge/TFM/threatlogllm/lib/python3.12/site-packages/tqdm/auto.py:21: TqdmWarning: IProgress not found. Please update jupyter and ipywidgets. See https://ipywidgets.readthedocs.io/en/stable/user_install.html\n",
      "  from .autonotebook import tqdm as notebook_tqdm\n"
     ]
    },
    {
     "name": "stdout",
     "output_type": "stream",
     "text": [
      "🦥 Unsloth: Will patch your computer to enable 2x faster free finetuning.\n",
      "🦥 Unsloth Zoo will now patch everything to make training faster!\n",
      "\n",
      "    _|    _|  _|    _|    _|_|_|    _|_|_|  _|_|_|  _|      _|    _|_|_|      _|_|_|_|    _|_|      _|_|_|  _|_|_|_|\n",
      "    _|    _|  _|    _|  _|        _|          _|    _|_|    _|  _|            _|        _|    _|  _|        _|\n",
      "    _|_|_|_|  _|    _|  _|  _|_|  _|  _|_|    _|    _|  _|  _|  _|  _|_|      _|_|_|    _|_|_|_|  _|        _|_|_|\n",
      "    _|    _|  _|    _|  _|    _|  _|    _|    _|    _|    _|_|  _|    _|      _|        _|    _|  _|        _|\n",
      "    _|    _|    _|_|      _|_|_|    _|_|_|  _|_|_|  _|      _|    _|_|_|      _|        _|    _|    _|_|_|  _|_|_|_|\n",
      "\n"
     ]
    }
   ],
   "source": [
    "# pandas, json, re and os imports\n",
    "import pandas as pd\n",
    "import json\n",
    "import os\n",
    "import re\n",
    "# visualization imports\n",
    "import matplotlib.pyplot as plt\n",
    "import seaborn as sns\n",
    "# imports for LLM training\n",
    "from datasets import Dataset, DatasetDict\n",
    "from huggingface_hub import interpreter_login\n",
    "from transformers import (\n",
    "    TrainingArguments,\n",
    "    EarlyStoppingCallback\n",
    ")\n",
    "from trl import SFTTrainer\n",
    "from unsloth import FastLanguageModel, is_bfloat16_supported\n",
    "from collections import defaultdict\n",
    "# imports for evaluation (sklearn)\n",
    "from sklearn.metrics import accuracy_score, precision_score, recall_score, f1_score, confusion_matrix\n",
    "# tqdm import\n",
    "from tqdm import tqdm\n",
    "\n",
    "# Login to Hugging Face Hub\n",
    "interpreter_login()"
   ]
  },
  {
   "cell_type": "markdown",
   "metadata": {},
   "source": [
    "## 3. PREPARE DATASET\n",
    "\n",
    "The dataset is split into 70% for training, 15% for validation, and 15% for testing. The model is fine-tuned on the training set while using the validation set to monitor performance during training. After fine-tuning, the final evaluation is performed on the test set."
   ]
  },
  {
   "cell_type": "code",
   "execution_count": null,
   "metadata": {},
   "outputs": [
    {
     "name": "stdout",
     "output_type": "stream",
     "text": [
      "{'text': 'Below is an instruction that describes a task, paired with an input that provides further context. Write a response that appropriately completes the request. Before answering, think carefully about the question and create a step-by-step chain of thoughts to ensure a logical and accurate response.\\n### Instruction:\\nYou are a cybersecurity expert specializing in IoT security. Your task is to analyze network logs and determine whether the given log data indicates a potential attack. Only provide the type of attack if it is an attack. If the log data is normal traffic, state that it is normal traffic.\\n### Question:\\n- The length of the DNS query is: 0.0\\n- The MQTT protocol name used is: 0.0\\n- The MQTT message type is: 0.0\\n- The MQTT topic is: 0.0\\n- The MQTT connection acknowledgment flags are: 0.0\\n- TCP options set in the packet are: 0101080a3df2b58a2b88a4a5\\n- TCP destination port is: 60210.0\\n### Response:\\n<think>\\nThis log data is an attack!! The type of attack detected is Backdoor.\\n</think>'}\n"
     ]
    }
   ],
   "source": [
    "# Define file path\n",
    "file_path = \"../../../data/prompts/multiclass_instructions_for_inference_less_samples.jsonl\"\n",
    "\n",
    "# Check if file exists\n",
    "if not os.path.exists(file_path):\n",
    "    raise FileNotFoundError(f\"The file {file_path} does not exist.\")\n",
    "\n",
    "# Read JSONL file line by line\n",
    "samples = []\n",
    "with open(file_path, \"r\", encoding=\"utf-8\") as f:\n",
    "    for line in f:\n",
    "        sample = json.loads(line.strip())  # Load each line as a JSON object\n",
    "        samples.append({\"text\": sample[\"Prompt\"]})  # Extract the prompt field\n",
    "\n",
    "# Convert into Hugging Face Dataset format\n",
    "dataset_dict = {\"full\": Dataset.from_list(samples)}\n",
    "dataset = DatasetDict(dataset_dict)\n",
    "\n",
    "# Verify first example\n",
    "print(dataset[\"full\"][0])"
   ]
  },
  {
   "cell_type": "code",
   "execution_count": 3,
   "metadata": {},
   "outputs": [
    {
     "name": "stdout",
     "output_type": "stream",
     "text": [
      "Train Samples: 5250\n",
      "Validation Samples: 1125\n",
      "Test Samples: 1125\n"
     ]
    }
   ],
   "source": [
    "# Shuffle the dataset\n",
    "dataset = dataset[\"full\"].shuffle(seed=42)\n",
    "\n",
    "# Split dataset into train (70%), validation (15%), test (15%)\n",
    "train_size = int(0.7 * len(dataset))\n",
    "val_size = int(0.15 * len(dataset))\n",
    "\n",
    "# Ensure the split sizes are correct\n",
    "train_dataset = dataset.select(range(train_size))\n",
    "val_dataset = dataset.select(range(train_size, train_size + val_size))\n",
    "test_dataset = dataset.select(range(train_size + val_size, len(dataset)))\n",
    "\n",
    "# Print sizes\n",
    "print(f\"Train Samples: {len(train_dataset)}\")\n",
    "print(f\"Validation Samples: {len(val_dataset)}\")\n",
    "print(f\"Test Samples: {len(test_dataset)}\")"
   ]
  },
  {
   "cell_type": "markdown",
   "metadata": {},
   "source": [
    "## 4. PREPARE LLM\n",
    "\n",
    "Load the Qwen language model from Unsloth with specific configuration parameters for fine-tuning."
   ]
  },
  {
   "cell_type": "code",
   "execution_count": 4,
   "metadata": {},
   "outputs": [
    {
     "name": "stdout",
     "output_type": "stream",
     "text": [
      "==((====))==  Unsloth 2025.2.15: Fast Qwen2 patching. Transformers: 4.49.0.\n",
      "   \\\\   /|    GPU: NVIDIA GeForce RTX 4060 Laptop GPU. Max memory: 7.996 GB. Platform: Linux.\n",
      "O^O/ \\_/ \\    Torch: 2.6.0+cu124. CUDA: 8.9. CUDA Toolkit: 12.4. Triton: 3.2.0\n",
      "\\        /    Bfloat16 = TRUE. FA [Xformers = 0.0.29.post2. FA2 = False]\n",
      " \"-____-\"     Free Apache license: http://github.com/unslothai/unsloth\n",
      "Unsloth: Fast downloading is enabled - ignore downloading bars which are red colored!\n"
     ]
    }
   ],
   "source": [
    "# Define model loading parameters\n",
    "max_seq_length = 2048 \n",
    "dtype = None \n",
    "load_in_4bit = True\n",
    "\n",
    "# Load the Qwen LLM with Unsloth's FastLanguageModel utility\n",
    "model, tokenizer = FastLanguageModel.from_pretrained(\n",
    "    model_name = \"unsloth/Qwen2.5-7B-Instruct-bnb-4bit\",\n",
    "    max_seq_length = max_seq_length,\n",
    "    dtype = dtype,\n",
    "    load_in_4bit = load_in_4bit,\n",
    ")"
   ]
  },
  {
   "cell_type": "code",
   "execution_count": 5,
   "metadata": {},
   "outputs": [
    {
     "name": "stderr",
     "output_type": "stream",
     "text": [
      "Unsloth 2025.2.15 patched 28 layers with 28 QKV layers, 28 O layers and 28 MLP layers.\n"
     ]
    },
    {
     "data": {
      "text/plain": [
       "PeftModelForCausalLM(\n",
       "  (base_model): LoraModel(\n",
       "    (model): Qwen2ForCausalLM(\n",
       "      (model): Qwen2Model(\n",
       "        (embed_tokens): Embedding(152064, 3584, padding_idx=151654)\n",
       "        (layers): ModuleList(\n",
       "          (0-27): 28 x Qwen2DecoderLayer(\n",
       "            (self_attn): Qwen2Attention(\n",
       "              (q_proj): lora.Linear4bit(\n",
       "                (base_layer): Linear4bit(in_features=3584, out_features=3584, bias=True)\n",
       "                (lora_dropout): ModuleDict(\n",
       "                  (default): Identity()\n",
       "                )\n",
       "                (lora_A): ModuleDict(\n",
       "                  (default): Linear(in_features=3584, out_features=16, bias=False)\n",
       "                )\n",
       "                (lora_B): ModuleDict(\n",
       "                  (default): Linear(in_features=16, out_features=3584, bias=False)\n",
       "                )\n",
       "                (lora_embedding_A): ParameterDict()\n",
       "                (lora_embedding_B): ParameterDict()\n",
       "                (lora_magnitude_vector): ModuleDict()\n",
       "              )\n",
       "              (k_proj): lora.Linear4bit(\n",
       "                (base_layer): Linear4bit(in_features=3584, out_features=512, bias=True)\n",
       "                (lora_dropout): ModuleDict(\n",
       "                  (default): Identity()\n",
       "                )\n",
       "                (lora_A): ModuleDict(\n",
       "                  (default): Linear(in_features=3584, out_features=16, bias=False)\n",
       "                )\n",
       "                (lora_B): ModuleDict(\n",
       "                  (default): Linear(in_features=16, out_features=512, bias=False)\n",
       "                )\n",
       "                (lora_embedding_A): ParameterDict()\n",
       "                (lora_embedding_B): ParameterDict()\n",
       "                (lora_magnitude_vector): ModuleDict()\n",
       "              )\n",
       "              (v_proj): lora.Linear4bit(\n",
       "                (base_layer): Linear4bit(in_features=3584, out_features=512, bias=True)\n",
       "                (lora_dropout): ModuleDict(\n",
       "                  (default): Identity()\n",
       "                )\n",
       "                (lora_A): ModuleDict(\n",
       "                  (default): Linear(in_features=3584, out_features=16, bias=False)\n",
       "                )\n",
       "                (lora_B): ModuleDict(\n",
       "                  (default): Linear(in_features=16, out_features=512, bias=False)\n",
       "                )\n",
       "                (lora_embedding_A): ParameterDict()\n",
       "                (lora_embedding_B): ParameterDict()\n",
       "                (lora_magnitude_vector): ModuleDict()\n",
       "              )\n",
       "              (o_proj): lora.Linear4bit(\n",
       "                (base_layer): Linear4bit(in_features=3584, out_features=3584, bias=False)\n",
       "                (lora_dropout): ModuleDict(\n",
       "                  (default): Identity()\n",
       "                )\n",
       "                (lora_A): ModuleDict(\n",
       "                  (default): Linear(in_features=3584, out_features=16, bias=False)\n",
       "                )\n",
       "                (lora_B): ModuleDict(\n",
       "                  (default): Linear(in_features=16, out_features=3584, bias=False)\n",
       "                )\n",
       "                (lora_embedding_A): ParameterDict()\n",
       "                (lora_embedding_B): ParameterDict()\n",
       "                (lora_magnitude_vector): ModuleDict()\n",
       "              )\n",
       "              (rotary_emb): LlamaRotaryEmbedding()\n",
       "            )\n",
       "            (mlp): Qwen2MLP(\n",
       "              (gate_proj): lora.Linear4bit(\n",
       "                (base_layer): Linear4bit(in_features=3584, out_features=18944, bias=False)\n",
       "                (lora_dropout): ModuleDict(\n",
       "                  (default): Identity()\n",
       "                )\n",
       "                (lora_A): ModuleDict(\n",
       "                  (default): Linear(in_features=3584, out_features=16, bias=False)\n",
       "                )\n",
       "                (lora_B): ModuleDict(\n",
       "                  (default): Linear(in_features=16, out_features=18944, bias=False)\n",
       "                )\n",
       "                (lora_embedding_A): ParameterDict()\n",
       "                (lora_embedding_B): ParameterDict()\n",
       "                (lora_magnitude_vector): ModuleDict()\n",
       "              )\n",
       "              (up_proj): lora.Linear4bit(\n",
       "                (base_layer): Linear4bit(in_features=3584, out_features=18944, bias=False)\n",
       "                (lora_dropout): ModuleDict(\n",
       "                  (default): Identity()\n",
       "                )\n",
       "                (lora_A): ModuleDict(\n",
       "                  (default): Linear(in_features=3584, out_features=16, bias=False)\n",
       "                )\n",
       "                (lora_B): ModuleDict(\n",
       "                  (default): Linear(in_features=16, out_features=18944, bias=False)\n",
       "                )\n",
       "                (lora_embedding_A): ParameterDict()\n",
       "                (lora_embedding_B): ParameterDict()\n",
       "                (lora_magnitude_vector): ModuleDict()\n",
       "              )\n",
       "              (down_proj): lora.Linear4bit(\n",
       "                (base_layer): Linear4bit(in_features=18944, out_features=3584, bias=False)\n",
       "                (lora_dropout): ModuleDict(\n",
       "                  (default): Identity()\n",
       "                )\n",
       "                (lora_A): ModuleDict(\n",
       "                  (default): Linear(in_features=18944, out_features=16, bias=False)\n",
       "                )\n",
       "                (lora_B): ModuleDict(\n",
       "                  (default): Linear(in_features=16, out_features=3584, bias=False)\n",
       "                )\n",
       "                (lora_embedding_A): ParameterDict()\n",
       "                (lora_embedding_B): ParameterDict()\n",
       "                (lora_magnitude_vector): ModuleDict()\n",
       "              )\n",
       "              (act_fn): SiLU()\n",
       "            )\n",
       "            (input_layernorm): Qwen2RMSNorm((3584,), eps=1e-06)\n",
       "            (post_attention_layernorm): Qwen2RMSNorm((3584,), eps=1e-06)\n",
       "          )\n",
       "        )\n",
       "        (norm): Qwen2RMSNorm((3584,), eps=1e-06)\n",
       "        (rotary_emb): LlamaRotaryEmbedding()\n",
       "      )\n",
       "      (lm_head): Linear(in_features=3584, out_features=152064, bias=False)\n",
       "    )\n",
       "  )\n",
       ")"
      ]
     },
     "execution_count": 5,
     "metadata": {},
     "output_type": "execute_result"
    }
   ],
   "source": [
    "# Get the model's config\n",
    "model = FastLanguageModel.get_peft_model(\n",
    "    model,\n",
    "    r=16,  \n",
    "    target_modules=[\n",
    "        \"q_proj\", \"k_proj\", \"v_proj\", \"o_proj\", \"gate_proj\",\n",
    "        \"up_proj\", \"down_proj\"\n",
    "    ],\n",
    "    lora_alpha=16,\n",
    "    lora_dropout=0,  \n",
    "    bias=\"none\",\n",
    "    use_gradient_checkpointing=\"unsloth\",  \n",
    "    random_state=3407,\n",
    "    use_rslora=False,\n",
    "    loftq_config=None,\n",
    ")\n",
    "\n",
    "# Reach the model for training\n",
    "FastLanguageModel.for_training(model)"
   ]
  },
  {
   "cell_type": "markdown",
   "metadata": {},
   "source": [
    "## 5. PREPARE DATASET WITH EOS\n",
    "\n",
    "In this section, each sample in the dataset is formatted to include an end-of-sentence (EOS) token.  \n",
    "This ensures proper termination of sequences during training and improves model understanding of prompt boundaries."
   ]
  },
  {
   "cell_type": "code",
   "execution_count": 6,
   "metadata": {},
   "outputs": [
    {
     "name": "stderr",
     "output_type": "stream",
     "text": [
      "Map: 100%|██████████| 5250/5250 [00:00<00:00, 57220.32 examples/s]\n",
      "Map: 100%|██████████| 1125/1125 [00:00<00:00, 108483.35 examples/s]\n",
      "Map: 100%|██████████| 1125/1125 [00:00<00:00, 73856.09 examples/s]"
     ]
    },
    {
     "name": "stdout",
     "output_type": "stream",
     "text": [
      "Below is an instruction that describes a task, paired with an input that provides further context. Write a response that appropriately completes the request. Before answering, think carefully about the question and create a step-by-step chain of thoughts to ensure a logical and accurate response.\n",
      "### Instruction:\n",
      "You are a cybersecurity expert specializing in IoT security. Your task is to analyze network logs and determine whether the given log data indicates a potential attack. Only provide the type of attack if it is an attack. If the log data is normal traffic, state that it is normal traffic.\n",
      "### Question:\n",
      "- The length of the DNS query is: 0.0\n",
      "- The MQTT protocol name used is: 0.0\n",
      "- The MQTT message type is: 0.0\n",
      "- The MQTT topic is: 0.0\n",
      "- The MQTT connection acknowledgment flags are: 0.0\n",
      "- TCP options set in the packet are: 020405b40402080a0aa7dd390000000001030307\n",
      "- TCP destination port is: 80.0\n",
      "### Response:\n",
      "<think>\n",
      "This log data is an attack!! The type of attack detected is DDoS_HTTP.\n",
      "</think><|im_end|>\n"
     ]
    },
    {
     "name": "stderr",
     "output_type": "stream",
     "text": [
      "\n"
     ]
    }
   ],
   "source": [
    "EOS_TOKEN = tokenizer.eos_token  # Ensure each training sample has an EOS token\n",
    "\n",
    "# Formatting function to structure data properly\n",
    "def formatting_prompts_func(examples):\n",
    "    texts = []\n",
    "    for entry in examples[\"text\"]:  # \"text\" is the key in our dataset\n",
    "        text = entry + EOS_TOKEN  # Append EOS token\n",
    "        texts.append(text)\n",
    "    return {\"text\": texts}\n",
    "\n",
    "# Apply formatting\n",
    "train_dataset = train_dataset.map(formatting_prompts_func, batched=True)\n",
    "val_dataset = val_dataset.map(formatting_prompts_func, batched=True)\n",
    "test_dataset = test_dataset.map(formatting_prompts_func, batched=True)\n",
    "\n",
    "# Print an example formatted sample\n",
    "print(train_dataset[\"text\"][0])"
   ]
  },
  {
   "cell_type": "markdown",
   "metadata": {},
   "source": [
    "## 6. INITIALIZE THE SFTTrainer FOR FINE-TUNING\n",
    "\n",
    "This section initializes the `SFTTrainer` with the model, tokenizer, and prepared datasets.  \n",
    "It sets training arguments such as learning rate, batch size, evaluation strategy, and checkpointing.  \n",
    "The model will be fine-tuned using supervised learning and validated on the evaluation set."
   ]
  },
  {
   "cell_type": "code",
   "execution_count": 7,
   "metadata": {},
   "outputs": [
    {
     "name": "stderr",
     "output_type": "stream",
     "text": [
      "Map (num_proc=2): 100%|██████████| 5250/5250 [00:02<00:00, 2071.32 examples/s]\n",
      "Map (num_proc=2): 100%|██████████| 1125/1125 [00:01<00:00, 998.91 examples/s]\n"
     ]
    }
   ],
   "source": [
    "# Prepare the trainer, with SFTTrainer and TrainingArguments\n",
    "trainer = SFTTrainer(\n",
    "    model=model,\n",
    "    tokenizer=tokenizer,\n",
    "    train_dataset=train_dataset,\n",
    "    eval_dataset=val_dataset,\n",
    "    max_seq_length=max_seq_length,\n",
    "    dataset_num_proc=2,\n",
    "    args=TrainingArguments(\n",
    "        per_device_train_batch_size=2,\n",
    "        gradient_accumulation_steps=4,\n",
    "        warmup_steps=5,\n",
    "        max_steps=1000,\n",
    "        learning_rate=2e-4,\n",
    "        fp16=not is_bfloat16_supported(),\n",
    "        bf16=is_bfloat16_supported(),\n",
    "        logging_steps=10,\n",
    "        optim=\"adamw_8bit\",\n",
    "        weight_decay=0.01,\n",
    "        lr_scheduler_type=\"linear\",\n",
    "        seed=3407,\n",
    "        output_dir=\"outputs_qwen\",\n",
    "        eval_strategy=\"steps\",  \n",
    "        save_strategy=\"steps\",  \n",
    "        save_total_limit=2,  \n",
    "        metric_for_best_model=\"eval_loss\",  \n",
    "        load_best_model_at_end=True,  \n",
    "        greater_is_better=False,  \n",
    "    ),\n",
    "    callbacks=[EarlyStoppingCallback(early_stopping_patience=3)],  # Stop if loss doesn't improve in 3 evaluations\n",
    ")"
   ]
  },
  {
   "cell_type": "markdown",
   "metadata": {},
   "source": [
    "## 7. TRAINING MODEL\n",
    "\n",
    "In this section, the model is fine-tuned for up to 1000 steps.  \n",
    "Evaluation is performed on the validation set every 10 steps, and early stopping is applied if no improvement is observed for 3 consecutive evaluations."
   ]
  },
  {
   "cell_type": "code",
   "execution_count": 8,
   "metadata": {},
   "outputs": [
    {
     "name": "stderr",
     "output_type": "stream",
     "text": [
      "==((====))==  Unsloth - 2x faster free finetuning | Num GPUs = 1\n",
      "   \\\\   /|    Num examples = 5,250 | Num Epochs = 2\n",
      "O^O/ \\_/ \\    Batch size per device = 2 | Gradient Accumulation steps = 4\n",
      "\\        /    Total batch size = 8 | Total steps = 1,000\n",
      " \"-____-\"     Number of trainable parameters = 40,370,176\n"
     ]
    },
    {
     "data": {
      "text/html": [
       "\n",
       "    <div>\n",
       "      \n",
       "      <progress value='430' max='1000' style='width:300px; height:20px; vertical-align: middle;'></progress>\n",
       "      [ 430/1000 3:02:13 < 4:02:41, 0.04 it/s, Epoch 0/2]\n",
       "    </div>\n",
       "    <table border=\"1\" class=\"dataframe\">\n",
       "  <thead>\n",
       " <tr style=\"text-align: left;\">\n",
       "      <th>Step</th>\n",
       "      <th>Training Loss</th>\n",
       "      <th>Validation Loss</th>\n",
       "    </tr>\n",
       "  </thead>\n",
       "  <tbody>\n",
       "    <tr>\n",
       "      <td>10</td>\n",
       "      <td>2.151900</td>\n",
       "      <td>0.941601</td>\n",
       "    </tr>\n",
       "    <tr>\n",
       "      <td>20</td>\n",
       "      <td>0.396900</td>\n",
       "      <td>0.177934</td>\n",
       "    </tr>\n",
       "    <tr>\n",
       "      <td>30</td>\n",
       "      <td>0.141700</td>\n",
       "      <td>0.146417</td>\n",
       "    </tr>\n",
       "    <tr>\n",
       "      <td>40</td>\n",
       "      <td>0.132200</td>\n",
       "      <td>0.138662</td>\n",
       "    </tr>\n",
       "    <tr>\n",
       "      <td>50</td>\n",
       "      <td>0.135000</td>\n",
       "      <td>0.134454</td>\n",
       "    </tr>\n",
       "    <tr>\n",
       "      <td>60</td>\n",
       "      <td>0.122000</td>\n",
       "      <td>0.133342</td>\n",
       "    </tr>\n",
       "    <tr>\n",
       "      <td>70</td>\n",
       "      <td>0.121000</td>\n",
       "      <td>0.133185</td>\n",
       "    </tr>\n",
       "    <tr>\n",
       "      <td>80</td>\n",
       "      <td>0.126900</td>\n",
       "      <td>0.127502</td>\n",
       "    </tr>\n",
       "    <tr>\n",
       "      <td>90</td>\n",
       "      <td>0.116900</td>\n",
       "      <td>0.124652</td>\n",
       "    </tr>\n",
       "    <tr>\n",
       "      <td>100</td>\n",
       "      <td>0.113200</td>\n",
       "      <td>0.121917</td>\n",
       "    </tr>\n",
       "    <tr>\n",
       "      <td>110</td>\n",
       "      <td>0.123500</td>\n",
       "      <td>0.120582</td>\n",
       "    </tr>\n",
       "    <tr>\n",
       "      <td>120</td>\n",
       "      <td>0.116300</td>\n",
       "      <td>0.116095</td>\n",
       "    </tr>\n",
       "    <tr>\n",
       "      <td>130</td>\n",
       "      <td>0.106700</td>\n",
       "      <td>0.114198</td>\n",
       "    </tr>\n",
       "    <tr>\n",
       "      <td>140</td>\n",
       "      <td>0.100100</td>\n",
       "      <td>0.114982</td>\n",
       "    </tr>\n",
       "    <tr>\n",
       "      <td>150</td>\n",
       "      <td>0.105000</td>\n",
       "      <td>0.113982</td>\n",
       "    </tr>\n",
       "    <tr>\n",
       "      <td>160</td>\n",
       "      <td>0.115000</td>\n",
       "      <td>0.112058</td>\n",
       "    </tr>\n",
       "    <tr>\n",
       "      <td>170</td>\n",
       "      <td>0.075300</td>\n",
       "      <td>0.113296</td>\n",
       "    </tr>\n",
       "    <tr>\n",
       "      <td>180</td>\n",
       "      <td>0.107300</td>\n",
       "      <td>0.110872</td>\n",
       "    </tr>\n",
       "    <tr>\n",
       "      <td>190</td>\n",
       "      <td>0.111300</td>\n",
       "      <td>0.109731</td>\n",
       "    </tr>\n",
       "    <tr>\n",
       "      <td>200</td>\n",
       "      <td>0.092200</td>\n",
       "      <td>0.110371</td>\n",
       "    </tr>\n",
       "    <tr>\n",
       "      <td>210</td>\n",
       "      <td>0.114200</td>\n",
       "      <td>0.109187</td>\n",
       "    </tr>\n",
       "    <tr>\n",
       "      <td>220</td>\n",
       "      <td>0.095200</td>\n",
       "      <td>0.108482</td>\n",
       "    </tr>\n",
       "    <tr>\n",
       "      <td>230</td>\n",
       "      <td>0.098400</td>\n",
       "      <td>0.107678</td>\n",
       "    </tr>\n",
       "    <tr>\n",
       "      <td>240</td>\n",
       "      <td>0.103200</td>\n",
       "      <td>0.105873</td>\n",
       "    </tr>\n",
       "    <tr>\n",
       "      <td>250</td>\n",
       "      <td>0.095100</td>\n",
       "      <td>0.105346</td>\n",
       "    </tr>\n",
       "    <tr>\n",
       "      <td>260</td>\n",
       "      <td>0.099200</td>\n",
       "      <td>0.105761</td>\n",
       "    </tr>\n",
       "    <tr>\n",
       "      <td>270</td>\n",
       "      <td>0.094900</td>\n",
       "      <td>0.104846</td>\n",
       "    </tr>\n",
       "    <tr>\n",
       "      <td>280</td>\n",
       "      <td>0.091300</td>\n",
       "      <td>0.103379</td>\n",
       "    </tr>\n",
       "    <tr>\n",
       "      <td>290</td>\n",
       "      <td>0.098800</td>\n",
       "      <td>0.103323</td>\n",
       "    </tr>\n",
       "    <tr>\n",
       "      <td>300</td>\n",
       "      <td>0.101900</td>\n",
       "      <td>0.103273</td>\n",
       "    </tr>\n",
       "    <tr>\n",
       "      <td>310</td>\n",
       "      <td>0.097100</td>\n",
       "      <td>0.103257</td>\n",
       "    </tr>\n",
       "    <tr>\n",
       "      <td>320</td>\n",
       "      <td>0.084800</td>\n",
       "      <td>0.102373</td>\n",
       "    </tr>\n",
       "    <tr>\n",
       "      <td>330</td>\n",
       "      <td>0.102600</td>\n",
       "      <td>0.103421</td>\n",
       "    </tr>\n",
       "    <tr>\n",
       "      <td>340</td>\n",
       "      <td>0.103700</td>\n",
       "      <td>0.103764</td>\n",
       "    </tr>\n",
       "    <tr>\n",
       "      <td>350</td>\n",
       "      <td>0.090600</td>\n",
       "      <td>0.101050</td>\n",
       "    </tr>\n",
       "    <tr>\n",
       "      <td>360</td>\n",
       "      <td>0.088600</td>\n",
       "      <td>0.101582</td>\n",
       "    </tr>\n",
       "    <tr>\n",
       "      <td>370</td>\n",
       "      <td>0.091700</td>\n",
       "      <td>0.100910</td>\n",
       "    </tr>\n",
       "    <tr>\n",
       "      <td>380</td>\n",
       "      <td>0.093800</td>\n",
       "      <td>0.099676</td>\n",
       "    </tr>\n",
       "    <tr>\n",
       "      <td>390</td>\n",
       "      <td>0.095500</td>\n",
       "      <td>0.099320</td>\n",
       "    </tr>\n",
       "    <tr>\n",
       "      <td>400</td>\n",
       "      <td>0.093400</td>\n",
       "      <td>0.097780</td>\n",
       "    </tr>\n",
       "    <tr>\n",
       "      <td>410</td>\n",
       "      <td>0.093900</td>\n",
       "      <td>0.098335</td>\n",
       "    </tr>\n",
       "    <tr>\n",
       "      <td>420</td>\n",
       "      <td>0.091600</td>\n",
       "      <td>0.098305</td>\n",
       "    </tr>\n",
       "    <tr>\n",
       "      <td>430</td>\n",
       "      <td>0.088100</td>\n",
       "      <td>0.098108</td>\n",
       "    </tr>\n",
       "  </tbody>\n",
       "</table><p>"
      ],
      "text/plain": [
       "<IPython.core.display.HTML object>"
      ]
     },
     "metadata": {},
     "output_type": "display_data"
    },
    {
     "name": "stderr",
     "output_type": "stream",
     "text": [
      "Unsloth: Not an error, but Qwen2ForCausalLM does not accept `num_items_in_batch`.\n",
      "Using gradient accumulation will be very slightly less accurate.\n",
      "Read more on gradient accumulation issues here: https://unsloth.ai/blog/gradient\n",
      "Could not locate the best model at outputs_qwen/checkpoint-400/pytorch_model.bin, if you are running a distributed training on multiple nodes, you should activate `--save_on_each_node`.\n"
     ]
    }
   ],
   "source": [
    "# Start fine-tuning\n",
    "trainer_stats = trainer.train()\n"
   ]
  },
  {
   "cell_type": "code",
   "execution_count": 9,
   "metadata": {},
   "outputs": [
    {
     "data": {
      "text/plain": [
       "('fine-tuned-model-attacks/qwen_finetuned_model_multi/tokenizer_config.json',\n",
       " 'fine-tuned-model-attacks/qwen_finetuned_model_multi/special_tokens_map.json',\n",
       " 'fine-tuned-model-attacks/qwen_finetuned_model_multi/vocab.json',\n",
       " 'fine-tuned-model-attacks/qwen_finetuned_model_multi/merges.txt',\n",
       " 'fine-tuned-model-attacks/qwen_finetuned_model_multi/added_tokens.json',\n",
       " 'fine-tuned-model-attacks/qwen_finetuned_model_multi/tokenizer.json')"
      ]
     },
     "execution_count": 9,
     "metadata": {},
     "output_type": "execute_result"
    }
   ],
   "source": [
    "# Save fine-tuned model and tokenizer\n",
    "trainer.save_model(\"fine-tuned-model-attacks/qwen_finetuned_model_multi\")  # Saves model weights\n",
    "tokenizer.save_pretrained(\"fine-tuned-model-attacks/qwen_finetuned_model_multi\")  # Saves tokenizer config"
   ]
  },
  {
   "cell_type": "markdown",
   "metadata": {},
   "source": [
    "## 8. COMPUTE PREDICTIONS\n",
    "\n",
    "In this section, predictions are generated using the LLM (`predictions_multiclass`) and stored in a list. The corresponding true labels are also collected in a separate list (`actual_labels_multiclass`). \n",
    "\n",
    "Both lists will be used later to compute evaluation metrics."
   ]
  },
  {
   "cell_type": "code",
   "execution_count": 10,
   "metadata": {},
   "outputs": [
    {
     "name": "stderr",
     "output_type": "stream",
     "text": [
      "Processing test samples: 100%|██████████| 1125/1125 [36:16<00:00,  1.93s/sample]\n"
     ]
    }
   ],
   "source": [
    "# Ensures optimized inference\n",
    "FastLanguageModel.for_inference(model)  \n",
    "\n",
    "# Initialize lists to store actual vs predicted labels\n",
    "predictions_multiclass = []\n",
    "actual_labels_multiclass = []\n",
    "\n",
    "# Define attack types for mapping\n",
    "attack_types = [\n",
    "    \"Normal\", \"DDoS_UDP\", \"DDoS_ICMP\", \"SQL_injection\", \"Password\",\n",
    "    \"Vulnerability_scanner\", \"DDoS_TCP\", \"DDoS_HTTP\", \"Uploading\", \"Backdoor\",\n",
    "    \"Port_Scanning\", \"XSS\", \"Ransomware\", \"MITM\", \"Fingerprinting\"\n",
    "]\n",
    "\n",
    "# Create mapping functions\n",
    "attack_type_to_id = {attack: i for i, attack in enumerate(attack_types)}\n",
    "id_to_attack_type = {i: attack for i, attack in enumerate(attack_types)}\n",
    "\n",
    "def label_to_multiclass(text):\n",
    "    \"\"\"Convert response text to a multi-class attack label (integer ID).\"\"\"\n",
    "    for attack in attack_types:\n",
    "        if attack in text:\n",
    "            return attack_type_to_id[attack]  # Return attack ID\n",
    "    return attack_type_to_id[\"Normal\"]  # Default to Normal if no attack detected\n",
    "\n",
    "# Iterate over test dataset\n",
    "for sample in tqdm(test_dataset, desc=\"Processing test samples\", unit=\"sample\"):\n",
    "    full_text = sample[\"text\"]\n",
    "\n",
    "    # Verifiy if the text contains \"### Response:\"\n",
    "    if \"### Response:\" in full_text:\n",
    "        input_text, actual_label = full_text.split(\"### Response:\")\n",
    "        input_text = input_text.strip()  # Remove extra spaces\n",
    "        actual_label = label_to_multiclass(actual_label.strip())  # Convert actual label to ID\n",
    "    else:\n",
    "        input_text = full_text.strip()\n",
    "        actual_label = attack_type_to_id[\"Normal\"]  # Default to \"Normal\" if missing\n",
    "\n",
    "    # Tokenize input\n",
    "    inputs = tokenizer([input_text], return_tensors=\"pt\").to(\"cuda\")\n",
    "\n",
    "    # Generate response\n",
    "    outputs = model.generate(\n",
    "        input_ids=inputs.input_ids,\n",
    "        attention_mask=inputs.attention_mask,\n",
    "        max_new_tokens=200,\n",
    "        use_cache=True,\n",
    "    )\n",
    "\n",
    "    # Decode prediction and convert to attack type ID\n",
    "    predicted_response = tokenizer.batch_decode(outputs, skip_special_tokens=True)[0]\n",
    "    \n",
    "    if \"### Response:\" in predicted_response:\n",
    "        predicted_label = label_to_multiclass(predicted_response.split(\"### Response:\")[1].strip())\n",
    "    else:\n",
    "        predicted_label = attack_type_to_id[\"Normal\"]  # Default if response format is incorrect\n",
    "\n",
    "    # Store results\n",
    "    predictions_multiclass.append(predicted_label)\n",
    "    actual_labels_multiclass.append(actual_label)"
   ]
  },
  {
   "cell_type": "markdown",
   "metadata": {},
   "source": [
    "## 9. Compute Evaluation Metrics\n",
    "\n",
    "In this section, standard evaluation metrics are computed to assess the model's performance. These include Accuracy, Precision, Recall, F1-Score, and the Confusion Matrix."
   ]
  },
  {
   "cell_type": "markdown",
   "metadata": {},
   "source": [
    "### GENERAL METRICS"
   ]
  },
  {
   "cell_type": "code",
   "execution_count": 11,
   "metadata": {},
   "outputs": [
    {
     "name": "stdout",
     "output_type": "stream",
     "text": [
      "\n",
      "Multi-Class Evaluation General Results:\n",
      " -Accuracy: 0.4756\n",
      " -Precision (Weighted): 0.5974\n",
      " -Recall (Weighted): 0.4756\n",
      " -F1-score (Weighted): 0.4546\n"
     ]
    }
   ],
   "source": [
    "# Compute Multi-Class Evaluation Metrics\n",
    "accuracy = accuracy_score(actual_labels_multiclass, predictions_multiclass)\n",
    "precision = precision_score(actual_labels_multiclass, predictions_multiclass, average=\"weighted\", zero_division=0)\n",
    "recall = recall_score(actual_labels_multiclass, predictions_multiclass, average=\"weighted\", zero_division=0)\n",
    "f1 = f1_score(actual_labels_multiclass, predictions_multiclass, average=\"weighted\", zero_division=0)\n",
    "\n",
    "# Print results\n",
    "print(\"\\nMulti-Class Evaluation General Results:\")\n",
    "print(f\" -Accuracy: {accuracy:.4f}\")\n",
    "print(f\" -Precision (Weighted): {precision:.4f}\")\n",
    "print(f\" -Recall (Weighted): {recall:.4f}\")\n",
    "print(f\" -F1-score (Weighted): {f1:.4f}\")"
   ]
  },
  {
   "cell_type": "markdown",
   "metadata": {},
   "source": [
    "### METRICS PER CLASS"
   ]
  },
  {
   "cell_type": "code",
   "execution_count": 12,
   "metadata": {},
   "outputs": [
    {
     "name": "stdout",
     "output_type": "stream",
     "text": [
      "\n",
      "\n",
      "Per-Class Performance:\n",
      "Normal                    | Precision: 1.0000 | Recall: 1.0000 | F1-score: 1.0000\n",
      "DDoS_UDP                  | Precision: 0.2646 | Recall: 0.7353 | F1-score: 0.3891\n",
      "DDoS_ICMP                 | Precision: 0.2875 | Recall: 0.3108 | F1-score: 0.2987\n",
      "SQL_injection             | Precision: 0.3182 | Recall: 0.1061 | F1-score: 0.1591\n",
      "Password                  | Precision: 0.6415 | Recall: 0.4533 | F1-score: 0.5312\n",
      "Vulnerability_scanner     | Precision: 0.3200 | Recall: 0.6667 | F1-score: 0.4324\n",
      "DDoS_TCP                  | Precision: 0.5379 | Recall: 0.9342 | F1-score: 0.6827\n",
      "DDoS_HTTP                 | Precision: 0.2745 | Recall: 0.5250 | F1-score: 0.3605\n",
      "Uploading                 | Precision: 0.5897 | Recall: 0.3382 | F1-score: 0.4299\n",
      "Backdoor                  | Precision: 0.6731 | Recall: 0.8642 | F1-score: 0.7568\n",
      "Port_Scanning             | Precision: 0.8333 | Recall: 0.1639 | F1-score: 0.2740\n",
      "XSS                       | Precision: 0.5217 | Recall: 0.1429 | F1-score: 0.2243\n",
      "Ransomware                | Precision: 0.9091 | Recall: 0.4110 | F1-score: 0.5660\n",
      "MITM                      | Precision: 1.0000 | Recall: 0.2824 | F1-score: 0.4404\n",
      "Fingerprinting            | Precision: 0.7857 | Recall: 0.1410 | F1-score: 0.2391\n"
     ]
    }
   ],
   "source": [
    "# Compute Per-Class Metrics\n",
    "class_metrics = defaultdict(dict)\n",
    "for attack_id in set(actual_labels_multiclass):\n",
    "    attack_name = id_to_attack_type[attack_id]\n",
    "\n",
    "    if attack_id in predictions_multiclass:\n",
    "        class_metrics[attack_name][\"Precision\"] = precision_score(actual_labels_multiclass, predictions_multiclass, labels=[attack_id], average=\"macro\", zero_division=0)\n",
    "        class_metrics[attack_name][\"Recall\"] = recall_score(actual_labels_multiclass, predictions_multiclass, labels=[attack_id], average=\"macro\", zero_division=0)\n",
    "        class_metrics[attack_name][\"F1-score\"] = f1_score(actual_labels_multiclass, predictions_multiclass, labels=[attack_id], average=\"macro\", zero_division=0)\n",
    "    else:\n",
    "        class_metrics[attack_name] = {\"Precision\": 0, \"Recall\": 0, \"F1-score\": 0}  # Set default values if no predictions\n",
    "\n",
    "# Print per-class metrics\n",
    "print(\"\\n\\nPer-Class Performance:\")\n",
    "for attack, metrics in class_metrics.items():\n",
    "    print(f\"{attack:25s} | Precision: {metrics['Precision']:.4f} | Recall: {metrics['Recall']:.4f} | F1-score: {metrics['F1-score']:.4f}\")"
   ]
  },
  {
   "cell_type": "code",
   "execution_count": 13,
   "metadata": {},
   "outputs": [
    {
     "data": {
      "image/png": "[encoded data removed]",
      "text/plain": [
       "<Figure size 1200x800 with 2 Axes>"
      ]
     },
     "metadata": {},
     "output_type": "display_data"
    }
   ],
   "source": [
    "# Convert numeric labels back to attack type names\n",
    "actual_labels_str = [id_to_attack_type[label] for label in actual_labels_multiclass]\n",
    "predictions_str = [id_to_attack_type[label] for label in predictions_multiclass]\n",
    "\n",
    "# Compute the confusion matrix\n",
    "cm = confusion_matrix(actual_labels_str, predictions_str, labels=attack_types)\n",
    "\n",
    "# Create a DataFrame for better visualization\n",
    "cm_df = pd.DataFrame(cm, index=attack_types, columns=attack_types)\n",
    "\n",
    "# Plot the confusion matrix using Seaborn\n",
    "plt.figure(figsize=(12, 8))\n",
    "sns.heatmap(cm_df, annot=True, fmt='d', cmap='Blues', linewidths=0.5)\n",
    "\n",
    "plt.xlabel(\"Predicted Label\")\n",
    "plt.ylabel(\"True Label\")\n",
    "plt.title(\"Confusion Matrix - Qwen Multiclass fine-tuned\")\n",
    "plt.xticks(rotation=45, ha=\"right\")  # Rotate labels for better readability\n",
    "plt.yticks(rotation=0)\n",
    "\n",
    "# Show the plot\n",
    "plt.show()"
   ]
  }
 ],
 "metadata": {
  "accelerator": "GPU",
  "colab": {
   "gpuType": "T4",
   "provenance": []
  },
  "kernelspec": {
   "display_name": "threatlogllm",
   "language": "python",
   "name": "python3"
  },
  "language_info": {
   "codemirror_mode": {
    "name": "ipython",
    "version": 3
   },
   "file_extension": ".py",
   "mimetype": "text/x-python",
   "name": "python",
   "nbconvert_exporter": "python",
   "pygments_lexer": "ipython3",
   "version": "3.12.3"
  }
 },
 "nbformat": 4,
 "nbformat_minor": 0
}
