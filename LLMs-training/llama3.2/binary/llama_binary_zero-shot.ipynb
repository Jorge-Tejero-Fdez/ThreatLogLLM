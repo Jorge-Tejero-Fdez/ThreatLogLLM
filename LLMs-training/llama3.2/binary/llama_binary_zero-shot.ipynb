{
 "cells": [
  {
   "cell_type": "markdown",
   "metadata": {},
   "source": [
    "# NOTEBOOK LLAMA 3.2 - BINARY CLASSIFICATION (ZERO-SHOT)\n",
    "\n",
    "This notebook evaluates the Llama LLM using zero-shot prompting for binary classification, distinguishing between normal and attack."
   ]
  },
  {
   "cell_type": "markdown",
   "metadata": {},
   "source": [
    "## 1. OBJECTIVES\n",
    "\n",
    "The objective of this notebook is to evaluate the performance of the Llama LLM in a **zero-shot binary classification** setting.\n",
    "\n",
    "Specifically, this notebook aims to:\n",
    "- Test the model's ability to distinguish between **normal** and **malicious** traffic without prior examples.\n",
    "- Analyze the model's predictions and assess its suitability for binary threat detection tasks in IoT systems.\n"
   ]
  },
  {
   "cell_type": "markdown",
   "metadata": {},
   "source": [
    "## 2. IMPORTS AND SETUP\n",
    "Import the required python libraries, preprocessing, and evaluation."
   ]
  },
  {
   "cell_type": "code",
   "execution_count": 1,
   "metadata": {},
   "outputs": [
    {
     "name": "stderr",
     "output_type": "stream",
     "text": [
      "/home/jorge/TFM/threatlogllm/lib/python3.12/site-packages/tqdm/auto.py:21: TqdmWarning: IProgress not found. Please update jupyter and ipywidgets. See https://ipywidgets.readthedocs.io/en/stable/user_install.html\n",
      "  from .autonotebook import tqdm as notebook_tqdm\n"
     ]
    },
    {
     "name": "stdout",
     "output_type": "stream",
     "text": [
      "🦥 Unsloth: Will patch your computer to enable 2x faster free finetuning.\n",
      "🦥 Unsloth Zoo will now patch everything to make training faster!\n",
      "\n",
      "    _|    _|  _|    _|    _|_|_|    _|_|_|  _|_|_|  _|      _|    _|_|_|      _|_|_|_|    _|_|      _|_|_|  _|_|_|_|\n",
      "    _|    _|  _|    _|  _|        _|          _|    _|_|    _|  _|            _|        _|    _|  _|        _|\n",
      "    _|_|_|_|  _|    _|  _|  _|_|  _|  _|_|    _|    _|  _|  _|  _|  _|_|      _|_|_|    _|_|_|_|  _|        _|_|_|\n",
      "    _|    _|  _|    _|  _|    _|  _|    _|    _|    _|    _|_|  _|    _|      _|        _|    _|  _|        _|\n",
      "    _|    _|    _|_|      _|_|_|    _|_|_|  _|_|_|  _|      _|    _|_|_|      _|        _|    _|    _|_|_|  _|_|_|_|\n",
      "\n"
     ]
    }
   ],
   "source": [
    "# pandas, json, re and os imports\n",
    "import pandas as pd\n",
    "import json\n",
    "import os\n",
    "import re\n",
    "# visualization imports\n",
    "import matplotlib.pyplot as plt\n",
    "import seaborn as sns\n",
    "# imports for LLM training\n",
    "from datasets import Dataset, DatasetDict\n",
    "from huggingface_hub import interpreter_login\n",
    "from unsloth import FastLanguageModel\n",
    "# imports for evaluation (sklearn)\n",
    "from sklearn.metrics import accuracy_score, precision_score, recall_score, f1_score, confusion_matrix\n",
    "# tqdm import\n",
    "from tqdm import tqdm\n",
    "\n",
    "# Login to Hugging Face Hub\n",
    "interpreter_login()"
   ]
  },
  {
   "cell_type": "markdown",
   "metadata": {},
   "source": [
    "## 3. PREPARE LLM\n",
    "\n",
    "Load the Llama language model from Unsloth with specific configuration parameters."
   ]
  },
  {
   "cell_type": "code",
   "execution_count": 2,
   "metadata": {},
   "outputs": [
    {
     "name": "stdout",
     "output_type": "stream",
     "text": [
      "==((====))==  Unsloth 2025.2.15: Fast Llama patching. Transformers: 4.49.0.\n",
      "   \\\\   /|    GPU: NVIDIA GeForce RTX 4060 Laptop GPU. Max memory: 7.996 GB. Platform: Linux.\n",
      "O^O/ \\_/ \\    Torch: 2.6.0+cu124. CUDA: 8.9. CUDA Toolkit: 12.4. Triton: 3.2.0\n",
      "\\        /    Bfloat16 = TRUE. FA [Xformers = 0.0.29.post2. FA2 = False]\n",
      " \"-____-\"     Free Apache license: http://github.com/unslothai/unsloth\n",
      "Unsloth: Fast downloading is enabled - ignore downloading bars which are red colored!\n"
     ]
    }
   ],
   "source": [
    "# Define model loading parameters\n",
    "max_seq_length = 2048 \n",
    "dtype = None \n",
    "load_in_4bit = True\n",
    "\n",
    "# Load the Llama 3.2 LLM with Unsloth's FastLanguageModel utility\n",
    "model, tokenizer = FastLanguageModel.from_pretrained(\n",
    "    model_name = \"unsloth/Llama-3.2-3B-unsloth-bnb-4bit\",\n",
    "    max_seq_length = max_seq_length,\n",
    "    dtype = dtype,\n",
    "    load_in_4bit = load_in_4bit,\n",
    ")"
   ]
  },
  {
   "cell_type": "markdown",
   "metadata": {},
   "source": [
    "### Test one sample"
   ]
  },
  {
   "cell_type": "code",
   "execution_count": 3,
   "metadata": {},
   "outputs": [],
   "source": [
    "# Sample IoT log entry to classify\n",
    "log_entry = \"\"\"\n",
    "- The length of the DNS query is: 0.0\n",
    "- The MQTT protocol name used is: 0.0\n",
    "- The MQTT message type is: 0.0\n",
    "- The MQTT topic is: 0.0\n",
    "- The MQTT connection acknowledgment flags are: 0.0\n",
    "- TCP options set in the packet are: 0101080a9b1f90b39ead21c3\n",
    "- TCP destination port is: 80.0\n",
    "\"\"\"\n",
    "\n",
    "question = f\"\"\"You are a cybersecurity LLM trained to analyze raw IoT traffic logs.\n",
    "\n",
    "Your task is to classify the log entry below as either:\n",
    "\n",
    "- Attack (if there is any indication of malicious behavior),\n",
    "- Normal (if the traffic seems safe).\n",
    "\n",
    "Respond:\n",
    "- Attack (if there is any indication of malicious behavior), or\n",
    "- Normal (if the traffic seems safe).\n",
    "\n",
    "Do NOT explain. Do NOT write anything else only NORMAL or ATTACK. \n",
    "\n",
    "### Log Entry:\n",
    "{log_entry}\n",
    "Response:\"\"\""
   ]
  },
  {
   "cell_type": "code",
   "execution_count": 5,
   "metadata": {},
   "outputs": [
    {
     "name": "stdout",
     "output_type": "stream",
     "text": [
      ">>> Extracted response:\n",
      "Attack\n"
     ]
    }
   ],
   "source": [
    "# Model is ready for inference\n",
    "FastLanguageModel.for_inference(model)\n",
    "\n",
    "# Tokenize input\n",
    "inputs = tokenizer([question], return_tensors=\"pt\").to(\"cuda\")\n",
    "\n",
    "# Generate response\n",
    "outputs = model.generate(\n",
    "    input_ids=inputs.input_ids,\n",
    "    attention_mask=inputs.attention_mask,\n",
    "    max_new_tokens=3,\n",
    "    use_cache=True\n",
    ")\n",
    "\n",
    "# Decode and extract response\n",
    "response = tokenizer.batch_decode(outputs, skip_special_tokens=True)[0]\n",
    "\n",
    "# Extract the generated response\n",
    "generated_part = response.replace(question, \"\").strip()\n",
    "print(\">>> Extracted response:\")\n",
    "print(generated_part)\n"
   ]
  },
  {
   "cell_type": "markdown",
   "metadata": {},
   "source": [
    "## 4. PREPARE DATASET\n",
    "\n",
    "The dataset is split into 70% for training, 15% for validation, and 15% for testing. However, only the **test split** is used in this notebook for zero-shot evaluation. \n",
    "\n",
    "These results will later be compared with the outcomes from the few-shot and fine-tuning experiments.\n"
   ]
  },
  {
   "cell_type": "code",
   "execution_count": 6,
   "metadata": {},
   "outputs": [
    {
     "name": "stdout",
     "output_type": "stream",
     "text": [
      "{'text': 'Below is an instruction that describes a task, paired with an input that provides further context. Write a response that appropriately completes the request. Before answering, think carefully about the question and create a step-by-step chain of thoughts to ensure a logical and accurate response.\\n### Instruction:\\nYou are a cybersecurity expert specializing in IoT security. Your task is to analyze network logs and determine whether the given log data indicates a potential attack. Only provide a response if this log data indicates a potential attack or normal traffic.\\n### Question:\\n- The length of the DNS query is: 0\\n- The MQTT protocol name used is: 0\\n- The MQTT message type is: 0\\n- The MQTT topic is: 0\\n- The MQTT connection acknowledgment flags are: 0\\n- TCP options set in the packet are: 0\\n- TCP destination port is: 53316.0\\n### Response:\\n<think>\\nThis log data is normal traffic.\\n</think>'}\n"
     ]
    }
   ],
   "source": [
    "# Define file path\n",
    "file_path = \"../../../data/prompts/binary_instructions.jsonl\"\n",
    "\n",
    "# Check if file exists\n",
    "if not os.path.exists(file_path):\n",
    "    raise FileNotFoundError(f\"The file {file_path} does not exist.\")\n",
    "\n",
    "# Read JSONL file line by line\n",
    "samples = []\n",
    "with open(file_path, \"r\", encoding=\"utf-8\") as f:\n",
    "    for line in f:\n",
    "        sample = json.loads(line.strip()) \n",
    "        samples.append({\"text\": sample[\"Prompt\"]})\n",
    "\n",
    "# Convert into Hugging Face Dataset format\n",
    "dataset_dict = {\"full\": Dataset.from_list(samples)}\n",
    "dataset = DatasetDict(dataset_dict)\n",
    "\n",
    "# Verify first example\n",
    "print(dataset[\"full\"][0])"
   ]
  },
  {
   "cell_type": "code",
   "execution_count": 7,
   "metadata": {},
   "outputs": [
    {
     "name": "stdout",
     "output_type": "stream",
     "text": [
      "Train Samples: 8400\n",
      "Validation Samples: 1800\n",
      "Test Samples: 1800\n"
     ]
    }
   ],
   "source": [
    "# Shuffle the dataset\n",
    "dataset = dataset[\"full\"].shuffle(seed=42)\n",
    "\n",
    "# Split dataset into train (70%), validation (15%), test (15%)\n",
    "train_size = int(0.7 * len(dataset))\n",
    "val_size = int(0.15 * len(dataset))\n",
    "\n",
    "# Ensure the split sizes are correct\n",
    "train_dataset = dataset.select(range(train_size))\n",
    "val_dataset = dataset.select(range(train_size, train_size + val_size))\n",
    "test_dataset = dataset.select(range(train_size + val_size, len(dataset)))\n",
    "\n",
    "# Print sizes\n",
    "print(f\"Train Samples: {len(train_dataset)}\")\n",
    "print(f\"Validation Samples: {len(val_dataset)}\")\n",
    "print(f\"Test Samples: {len(test_dataset)}\")"
   ]
  },
  {
   "cell_type": "markdown",
   "metadata": {},
   "source": [
    "## 5. DEFINE HELPER FUNCTIONS FOR PREDICTIONS\n",
    "\n",
    "This section defines two helper functions:\n",
    "\n",
    "- `extract_and_format_log`: Formats the input log into a prompt compatible with the LLM.\n",
    "- `extract_true_label`: Extracts the true label associated with each input sample for evaluation."
   ]
  },
  {
   "cell_type": "code",
   "execution_count": 8,
   "metadata": {},
   "outputs": [],
   "source": [
    "def extract_and_format_log(json_text):\n",
    "    match = re.search(r'### Question:\\n(.*?)### Response:', json_text, re.DOTALL)\n",
    "    if match:\n",
    "        log_entry = match.group(1).strip()\n",
    "        log_entry = \"\\n\".join(line.strip() for line in log_entry.split(\"\\n\") if line.strip())\n",
    "\n",
    "        # Zero-shot prompt\n",
    "        prompt = f\"\"\"You are a cybersecurity LLM trained to analyze raw IoT traffic logs.\n",
    "\n",
    "        Your task is to classify the log entry below as either:\n",
    "\n",
    "        - Attack (if there is any indication of malicious behavior),\n",
    "        - Normal (if the traffic seems safe).\n",
    "\n",
    "        Respond:\n",
    "        - Attack (if there is any indication of malicious behavior), or\n",
    "        - Normal (if the traffic seems safe).\n",
    "\n",
    "        Do NOT explain. Do NOT write anything else only NORMAL or ATTACK. \n",
    "\n",
    "        ### Log Entry:\n",
    "        {log_entry}\n",
    "        Response:\"\"\"\n",
    "\n",
    "        return prompt\n",
    "    else:\n",
    "        return None\n"
   ]
  },
  {
   "cell_type": "code",
   "execution_count": 9,
   "metadata": {},
   "outputs": [],
   "source": [
    "# Function to extract the true label from the JSON response text\n",
    "def extract_true_label(json_text):\n",
    "    match = re.search(r'### Response:\\n<think>\\nThis log data is (.*?)\\.', json_text, re.IGNORECASE)\n",
    "    if match:\n",
    "        return \"Attack\" if \"attack\" in match.group(1).lower() else \"Normal\"\n",
    "    return \"Unknown\""
   ]
  },
  {
   "cell_type": "markdown",
   "metadata": {},
   "source": [
    "## 6. COMPUTE PREDICTIONS\n",
    "\n",
    "In this section, predictions are generated using the LLM and stored in a list. The corresponding true labels are also collected in a separate list. \n",
    "\n",
    "Both lists will be used later to compute evaluation metrics."
   ]
  },
  {
   "cell_type": "code",
   "execution_count": 10,
   "metadata": {},
   "outputs": [
    {
     "name": "stderr",
     "output_type": "stream",
     "text": [
      "Processing test samples: 100%|██████████| 1800/1800 [13:05<00:00,  2.29it/s]\n"
     ]
    }
   ],
   "source": [
    "# Initialize lists to store predictions and true labels\n",
    "predictions = []\n",
    "true_labels = []\n",
    "\n",
    "# Iterate over each sample in the test dataset with a progress bar\n",
    "for sample in tqdm(test_dataset, desc=\"Processing test samples\"):\n",
    "    # Transform the log text into the required prompt format\n",
    "    formatted_prompt = extract_and_format_log(sample[\"text\"])\n",
    "    true_label = extract_true_label(sample[\"text\"])\n",
    "\n",
    "    if not formatted_prompt or true_label == \"Unknown\":\n",
    "        continue  # Skip samples where log extraction fails or label is unknown\n",
    "\n",
    "    # Tokenize the input text\n",
    "    inputs = tokenizer([formatted_prompt], return_tensors=\"pt\").to(\"cuda\")\n",
    "\n",
    "    # Generate the model's response\n",
    "    outputs = model.generate(\n",
    "        input_ids=inputs.input_ids,\n",
    "        attention_mask=inputs.attention_mask,\n",
    "        max_new_tokens=10,\n",
    "        use_cache=True\n",
    "    )\n",
    "\n",
    "    # Decode the model's output into a readable string\n",
    "    response_text = tokenizer.batch_decode(outputs, skip_special_tokens=True)[0].strip()\n",
    "\n",
    "    # Extract the last response from the generated text\n",
    "    last_response = None\n",
    "    for line in reversed(response_text.splitlines()):\n",
    "        if \"attack\" in line.lower():\n",
    "            last_response = \"Attack\"\n",
    "            break\n",
    "        elif \"normal\" in line.lower():\n",
    "            last_response = \"Normal\"\n",
    "            break\n",
    "    if last_response:\n",
    "        predicted_label = last_response\n",
    "    else:\n",
    "        predicted_label = \"Unknown\"\n",
    "    predictions.append(predicted_label)\n",
    "    true_labels.append(true_label)\n"
   ]
  },
  {
   "cell_type": "markdown",
   "metadata": {},
   "source": [
    "## 7. Compute Evaluation Metrics\n",
    "\n",
    "In this section, standard evaluation metrics are computed to assess the model's performance. These include Accuracy, Precision, Recall, F1-Score, and the Confusion Matrix."
   ]
  },
  {
   "cell_type": "code",
   "execution_count": 11,
   "metadata": {},
   "outputs": [
    {
     "name": "stdout",
     "output_type": "stream",
     "text": [
      "Accuracy: 0.5139\n",
      "Precision: 0.4991\n",
      "Recall: 0.5139\n",
      "F1 Score: 0.4028\n"
     ]
    }
   ],
   "source": [
    "# Compute classification metrics\n",
    "accuracy = accuracy_score(true_labels, predictions)\n",
    "precision = precision_score(true_labels, predictions, average=\"weighted\", zero_division=0)\n",
    "recall = recall_score(true_labels, predictions, average=\"weighted\", zero_division=0)\n",
    "f1 = f1_score(true_labels, predictions, average=\"weighted\", zero_division=0)\n",
    "\n",
    "# Print results\n",
    "print(f\"Accuracy: {accuracy:.4f}\")\n",
    "print(f\"Precision: {precision:.4f}\")\n",
    "print(f\"Recall: {recall:.4f}\")\n",
    "print(f\"F1 Score: {f1:.4f}\")\n"
   ]
  },
  {
   "cell_type": "code",
   "execution_count": 12,
   "metadata": {},
   "outputs": [
    {
     "data": {
      "image/png": "[encoded data removed]",
      "text/plain": [
       "<Figure size 600x500 with 2 Axes>"
      ]
     },
     "metadata": {},
     "output_type": "display_data"
    }
   ],
   "source": [
    "# Compute confusion matrix\n",
    "cm = confusion_matrix(true_labels, predictions, labels=[\"Attack\", \"Normal\"])\n",
    "\n",
    "# Create a DataFrame for better visualization\n",
    "cm_df = pd.DataFrame(cm, index=[\"Actual Attack\", \"Actual Normal\"], columns=[\"Predicted Attack\", \"Predicted Normal\"])\n",
    "\n",
    "# Plot the confusion matrix\n",
    "plt.figure(figsize=(6,5))\n",
    "sns.heatmap(cm_df, annot=True, fmt='d', cmap='Blues', linewidths=0.5)\n",
    "plt.xlabel(\"Predicted Label\")\n",
    "plt.ylabel(\"True Label\")\n",
    "plt.title(\"Confusion Matrix - Llama Binary few-shot\")\n",
    "plt.show()"
   ]
  }
 ],
 "metadata": {
  "accelerator": "GPU",
  "colab": {
   "gpuType": "T4",
   "provenance": []
  },
  "kernelspec": {
   "display_name": "threatlogllm",
   "language": "python",
   "name": "python3"
  },
  "language_info": {
   "codemirror_mode": {
    "name": "ipython",
    "version": 3
   },
   "file_extension": ".py",
   "mimetype": "text/x-python",
   "name": "python",
   "nbconvert_exporter": "python",
   "pygments_lexer": "ipython3",
   "version": "3.12.3"
  }
 },
 "nbformat": 4,
 "nbformat_minor": 0
}
