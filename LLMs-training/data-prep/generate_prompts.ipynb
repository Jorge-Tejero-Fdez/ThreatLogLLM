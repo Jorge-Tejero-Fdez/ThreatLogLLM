{
 "cells": [
  {
   "cell_type": "markdown",
   "metadata": {},
   "source": [
    "# NOTEBOOK FOR PROMPT GENERATION\n",
    "\n",
    "This notebook generates prompts for two tasks:\n",
    "- **Binary classification**: to detect whether the input corresponds to an attack or normal traffic.\n",
    "- **Multiclass classification**: to identify the specific type of attack."
   ]
  },
  {
   "cell_type": "markdown",
   "metadata": {},
   "source": [
    "## 1. OBJECTIVES\n",
    "\n",
    "The main objective of this notebook is to generate high-quality prompts for training large language models (LLMs) in the context of IoT threat detection.\n",
    "\n",
    "Specifically, it focuses on:\n",
    "- **Binary classification prompts**: to distinguish between normal and malicious traffic.\n",
    "- **Multiclass classification prompts**: to classify the detected malicious traffic into specific attack types.\n",
    "\n",
    "These prompts will be used as input-output pairs for fine-tuning LLMs in downstream classification tasks."
   ]
  },
  {
   "cell_type": "markdown",
   "metadata": {},
   "source": [
    "## 2. IMPORTS AND SETUP\n",
    "Import the required python libraries, for the prompts generation."
   ]
  },
  {
   "cell_type": "code",
   "execution_count": 1,
   "metadata": {},
   "outputs": [],
   "source": [
    "# pandas and os imports\n",
    "import pandas as pd\n",
    "import os\n",
    "# visualization imports\n",
    "import matplotlib.pyplot as plt\n",
    "import seaborn as sns\n",
    "# sklearn imports\n",
    "from sklearn.ensemble import RandomForestClassifier\n",
    "from sklearn.model_selection import train_test_split\n",
    "from sklearn.preprocessing import LabelEncoder"
   ]
  },
  {
   "cell_type": "markdown",
   "metadata": {
    "id": "85T4fp0gmtlJ"
   },
   "source": [
    "## 3. DATA PREPARATION\n",
    "Load the EdgeIIoT dataset."
   ]
  },
  {
   "cell_type": "code",
   "execution_count": 2,
   "metadata": {
    "id": "LjY75GoYUCB8"
   },
   "outputs": [
    {
     "data": {
      "text/html": [
       "<div>\n",
       "<style scoped>\n",
       "    .dataframe tbody tr th:only-of-type {\n",
       "        vertical-align: middle;\n",
       "    }\n",
       "\n",
       "    .dataframe tbody tr th {\n",
       "        vertical-align: top;\n",
       "    }\n",
       "\n",
       "    .dataframe thead th {\n",
       "        text-align: right;\n",
       "    }\n",
       "</style>\n",
       "<table border=\"1\" class=\"dataframe\">\n",
       "  <thead>\n",
       "    <tr style=\"text-align: right;\">\n",
       "      <th></th>\n",
       "      <th>frame.time</th>\n",
       "      <th>ip.src_host</th>\n",
       "      <th>ip.dst_host</th>\n",
       "      <th>arp.dst.proto_ipv4</th>\n",
       "      <th>arp.opcode</th>\n",
       "      <th>arp.hw.size</th>\n",
       "      <th>arp.src.proto_ipv4</th>\n",
       "      <th>icmp.checksum</th>\n",
       "      <th>icmp.seq_le</th>\n",
       "      <th>icmp.transmit_timestamp</th>\n",
       "      <th>...</th>\n",
       "      <th>mqtt.proto_len</th>\n",
       "      <th>mqtt.protoname</th>\n",
       "      <th>mqtt.topic</th>\n",
       "      <th>mqtt.topic_len</th>\n",
       "      <th>mqtt.ver</th>\n",
       "      <th>mbtcp.len</th>\n",
       "      <th>mbtcp.trans_id</th>\n",
       "      <th>mbtcp.unit_id</th>\n",
       "      <th>Attack_label</th>\n",
       "      <th>Attack_type</th>\n",
       "    </tr>\n",
       "  </thead>\n",
       "  <tbody>\n",
       "    <tr>\n",
       "      <th>0</th>\n",
       "      <td>2021 11:44:10.081753000</td>\n",
       "      <td>192.168.0.128</td>\n",
       "      <td>192.168.0.101</td>\n",
       "      <td>0</td>\n",
       "      <td>0.0</td>\n",
       "      <td>0.0</td>\n",
       "      <td>0</td>\n",
       "      <td>0.0</td>\n",
       "      <td>0.0</td>\n",
       "      <td>0.0</td>\n",
       "      <td>...</td>\n",
       "      <td>0.0</td>\n",
       "      <td>0</td>\n",
       "      <td>0</td>\n",
       "      <td>0.0</td>\n",
       "      <td>0.0</td>\n",
       "      <td>0.0</td>\n",
       "      <td>0.0</td>\n",
       "      <td>0.0</td>\n",
       "      <td>0</td>\n",
       "      <td>Normal</td>\n",
       "    </tr>\n",
       "    <tr>\n",
       "      <th>1</th>\n",
       "      <td>2021 11:44:10.162218000</td>\n",
       "      <td>192.168.0.101</td>\n",
       "      <td>192.168.0.128</td>\n",
       "      <td>0</td>\n",
       "      <td>0.0</td>\n",
       "      <td>0.0</td>\n",
       "      <td>0</td>\n",
       "      <td>0.0</td>\n",
       "      <td>0.0</td>\n",
       "      <td>0.0</td>\n",
       "      <td>...</td>\n",
       "      <td>4.0</td>\n",
       "      <td>MQTT</td>\n",
       "      <td>0</td>\n",
       "      <td>0.0</td>\n",
       "      <td>4.0</td>\n",
       "      <td>0.0</td>\n",
       "      <td>0.0</td>\n",
       "      <td>0.0</td>\n",
       "      <td>0</td>\n",
       "      <td>Normal</td>\n",
       "    </tr>\n",
       "    <tr>\n",
       "      <th>2</th>\n",
       "      <td>2021 11:44:10.162271000</td>\n",
       "      <td>192.168.0.128</td>\n",
       "      <td>192.168.0.101</td>\n",
       "      <td>0</td>\n",
       "      <td>0.0</td>\n",
       "      <td>0.0</td>\n",
       "      <td>0</td>\n",
       "      <td>0.0</td>\n",
       "      <td>0.0</td>\n",
       "      <td>0.0</td>\n",
       "      <td>...</td>\n",
       "      <td>0.0</td>\n",
       "      <td>0</td>\n",
       "      <td>0</td>\n",
       "      <td>0.0</td>\n",
       "      <td>0.0</td>\n",
       "      <td>0.0</td>\n",
       "      <td>0.0</td>\n",
       "      <td>0.0</td>\n",
       "      <td>0</td>\n",
       "      <td>Normal</td>\n",
       "    </tr>\n",
       "    <tr>\n",
       "      <th>3</th>\n",
       "      <td>2021 11:44:10.162641000</td>\n",
       "      <td>192.168.0.128</td>\n",
       "      <td>192.168.0.101</td>\n",
       "      <td>0</td>\n",
       "      <td>0.0</td>\n",
       "      <td>0.0</td>\n",
       "      <td>0</td>\n",
       "      <td>0.0</td>\n",
       "      <td>0.0</td>\n",
       "      <td>0.0</td>\n",
       "      <td>...</td>\n",
       "      <td>0.0</td>\n",
       "      <td>0</td>\n",
       "      <td>0</td>\n",
       "      <td>0.0</td>\n",
       "      <td>0.0</td>\n",
       "      <td>0.0</td>\n",
       "      <td>0.0</td>\n",
       "      <td>0.0</td>\n",
       "      <td>0</td>\n",
       "      <td>Normal</td>\n",
       "    </tr>\n",
       "    <tr>\n",
       "      <th>4</th>\n",
       "      <td>2021 11:44:10.166132000</td>\n",
       "      <td>192.168.0.101</td>\n",
       "      <td>192.168.0.128</td>\n",
       "      <td>0</td>\n",
       "      <td>0.0</td>\n",
       "      <td>0.0</td>\n",
       "      <td>0</td>\n",
       "      <td>0.0</td>\n",
       "      <td>0.0</td>\n",
       "      <td>0.0</td>\n",
       "      <td>...</td>\n",
       "      <td>0.0</td>\n",
       "      <td>0</td>\n",
       "      <td>Temperature_and_Humidity</td>\n",
       "      <td>24.0</td>\n",
       "      <td>0.0</td>\n",
       "      <td>0.0</td>\n",
       "      <td>0.0</td>\n",
       "      <td>0.0</td>\n",
       "      <td>0</td>\n",
       "      <td>Normal</td>\n",
       "    </tr>\n",
       "  </tbody>\n",
       "</table>\n",
       "<p>5 rows × 63 columns</p>\n",
       "</div>"
      ],
      "text/plain": [
       "                  frame.time    ip.src_host    ip.dst_host arp.dst.proto_ipv4  \\\n",
       "0   2021 11:44:10.081753000   192.168.0.128  192.168.0.101                  0   \n",
       "1   2021 11:44:10.162218000   192.168.0.101  192.168.0.128                  0   \n",
       "2   2021 11:44:10.162271000   192.168.0.128  192.168.0.101                  0   \n",
       "3   2021 11:44:10.162641000   192.168.0.128  192.168.0.101                  0   \n",
       "4   2021 11:44:10.166132000   192.168.0.101  192.168.0.128                  0   \n",
       "\n",
       "   arp.opcode  arp.hw.size arp.src.proto_ipv4  icmp.checksum  icmp.seq_le  \\\n",
       "0         0.0          0.0                  0            0.0          0.0   \n",
       "1         0.0          0.0                  0            0.0          0.0   \n",
       "2         0.0          0.0                  0            0.0          0.0   \n",
       "3         0.0          0.0                  0            0.0          0.0   \n",
       "4         0.0          0.0                  0            0.0          0.0   \n",
       "\n",
       "   icmp.transmit_timestamp  ...  mqtt.proto_len mqtt.protoname  \\\n",
       "0                      0.0  ...             0.0              0   \n",
       "1                      0.0  ...             4.0           MQTT   \n",
       "2                      0.0  ...             0.0              0   \n",
       "3                      0.0  ...             0.0              0   \n",
       "4                      0.0  ...             0.0              0   \n",
       "\n",
       "                 mqtt.topic mqtt.topic_len mqtt.ver mbtcp.len mbtcp.trans_id  \\\n",
       "0                         0            0.0      0.0       0.0            0.0   \n",
       "1                         0            0.0      4.0       0.0            0.0   \n",
       "2                         0            0.0      0.0       0.0            0.0   \n",
       "3                         0            0.0      0.0       0.0            0.0   \n",
       "4  Temperature_and_Humidity           24.0      0.0       0.0            0.0   \n",
       "\n",
       "  mbtcp.unit_id  Attack_label  Attack_type  \n",
       "0           0.0             0       Normal  \n",
       "1           0.0             0       Normal  \n",
       "2           0.0             0       Normal  \n",
       "3           0.0             0       Normal  \n",
       "4           0.0             0       Normal  \n",
       "\n",
       "[5 rows x 63 columns]"
      ]
     },
     "execution_count": 2,
     "metadata": {},
     "output_type": "execute_result"
    }
   ],
   "source": [
    "# Read dataset\n",
    "csv_path = \"../../data/dataset-csv/DNN-EdgeIIoT-dataset.csv\"\n",
    "df = pd.read_csv(csv_path,low_memory=False)\n",
    "df.head()"
   ]
  },
  {
   "cell_type": "code",
   "execution_count": 3,
   "metadata": {},
   "outputs": [
    {
     "name": "stdout",
     "output_type": "stream",
     "text": [
      "Index(['frame.time', 'ip.src_host', 'ip.dst_host', 'arp.dst.proto_ipv4',\n",
      "       'arp.opcode', 'arp.hw.size', 'arp.src.proto_ipv4', 'icmp.checksum',\n",
      "       'icmp.seq_le', 'icmp.transmit_timestamp', 'icmp.unused',\n",
      "       'http.file_data', 'http.content_length', 'http.request.uri.query',\n",
      "       'http.request.method', 'http.referer', 'http.request.full_uri',\n",
      "       'http.request.version', 'http.response', 'http.tls_port', 'tcp.ack',\n",
      "       'tcp.ack_raw', 'tcp.checksum', 'tcp.connection.fin',\n",
      "       'tcp.connection.rst', 'tcp.connection.syn', 'tcp.connection.synack',\n",
      "       'tcp.dstport', 'tcp.flags', 'tcp.flags.ack', 'tcp.len', 'tcp.options',\n",
      "       'tcp.payload', 'tcp.seq', 'tcp.srcport', 'udp.port', 'udp.stream',\n",
      "       'udp.time_delta', 'dns.qry.name', 'dns.qry.name.len', 'dns.qry.qu',\n",
      "       'dns.qry.type', 'dns.retransmission', 'dns.retransmit_request',\n",
      "       'dns.retransmit_request_in', 'mqtt.conack.flags',\n",
      "       'mqtt.conflag.cleansess', 'mqtt.conflags', 'mqtt.hdrflags', 'mqtt.len',\n",
      "       'mqtt.msg_decoded_as', 'mqtt.msg', 'mqtt.msgtype', 'mqtt.proto_len',\n",
      "       'mqtt.protoname', 'mqtt.topic', 'mqtt.topic_len', 'mqtt.ver',\n",
      "       'mbtcp.len', 'mbtcp.trans_id', 'mbtcp.unit_id', 'Attack_label',\n",
      "       'Attack_type'],\n",
      "      dtype='object')\n"
     ]
    }
   ],
   "source": [
    "# View columns\n",
    "print(df.columns)"
   ]
  },
  {
   "cell_type": "code",
   "execution_count": 4,
   "metadata": {
    "id": "giPu9FFhpx9m"
   },
   "outputs": [],
   "source": [
    "# Save a backup of the dataframe\n",
    "df_bp = df"
   ]
  },
  {
   "cell_type": "markdown",
   "metadata": {},
   "source": [
    "## 4. DATA ANALYSIS\n",
    "Analyze the dataset to preprocess it. "
   ]
  },
  {
   "cell_type": "code",
   "execution_count": 5,
   "metadata": {},
   "outputs": [],
   "source": [
    "pd.set_option('display.max_columns', None)\n",
    "pd.set_option('display.max_rows', None)"
   ]
  },
  {
   "cell_type": "code",
   "execution_count": 6,
   "metadata": {},
   "outputs": [
    {
     "data": {
      "text/plain": [
       "frame.time                   0\n",
       "ip.src_host                  0\n",
       "ip.dst_host                  0\n",
       "arp.dst.proto_ipv4           0\n",
       "arp.opcode                   0\n",
       "arp.hw.size                  0\n",
       "arp.src.proto_ipv4           0\n",
       "icmp.checksum                0\n",
       "icmp.seq_le                  0\n",
       "icmp.transmit_timestamp      0\n",
       "icmp.unused                  0\n",
       "http.file_data               0\n",
       "http.content_length          0\n",
       "http.request.uri.query       0\n",
       "http.request.method          0\n",
       "http.referer                 0\n",
       "http.request.full_uri        0\n",
       "http.request.version         0\n",
       "http.response                0\n",
       "http.tls_port                0\n",
       "tcp.ack                      0\n",
       "tcp.ack_raw                  0\n",
       "tcp.checksum                 0\n",
       "tcp.connection.fin           0\n",
       "tcp.connection.rst           0\n",
       "tcp.connection.syn           0\n",
       "tcp.connection.synack        0\n",
       "tcp.dstport                  0\n",
       "tcp.flags                    0\n",
       "tcp.flags.ack                0\n",
       "tcp.len                      0\n",
       "tcp.options                  0\n",
       "tcp.payload                  0\n",
       "tcp.seq                      0\n",
       "tcp.srcport                  0\n",
       "udp.port                     0\n",
       "udp.stream                   0\n",
       "udp.time_delta               0\n",
       "dns.qry.name                 0\n",
       "dns.qry.name.len             0\n",
       "dns.qry.qu                   0\n",
       "dns.qry.type                 0\n",
       "dns.retransmission           0\n",
       "dns.retransmit_request       0\n",
       "dns.retransmit_request_in    0\n",
       "mqtt.conack.flags            0\n",
       "mqtt.conflag.cleansess       0\n",
       "mqtt.conflags                0\n",
       "mqtt.hdrflags                0\n",
       "mqtt.len                     0\n",
       "mqtt.msg_decoded_as          0\n",
       "mqtt.msg                     0\n",
       "mqtt.msgtype                 0\n",
       "mqtt.proto_len               0\n",
       "mqtt.protoname               0\n",
       "mqtt.topic                   0\n",
       "mqtt.topic_len               0\n",
       "mqtt.ver                     0\n",
       "mbtcp.len                    0\n",
       "mbtcp.trans_id               0\n",
       "mbtcp.unit_id                0\n",
       "Attack_label                 0\n",
       "Attack_type                  0\n",
       "dtype: int64"
      ]
     },
     "execution_count": 6,
     "metadata": {},
     "output_type": "execute_result"
    }
   ],
   "source": [
    "# View if there is any missing data\n",
    "df.isna().sum()"
   ]
  },
  {
   "cell_type": "markdown",
   "metadata": {},
   "source": [
    "## 5. FEATURE SELECTION AND PREPROCESSING\n",
    "Select the most important features using a random forest classifier to select the best 7 features."
   ]
  },
  {
   "cell_type": "code",
   "execution_count": 7,
   "metadata": {},
   "outputs": [
    {
     "name": "stdout",
     "output_type": "stream",
     "text": [
      "dns.qry.name.len     0.205840\n",
      "mqtt.protoname       0.138802\n",
      "mqtt.msg             0.109687\n",
      "mqtt.topic           0.101408\n",
      "mqtt.conack.flags    0.095618\n",
      "tcp.options          0.081726\n",
      "tcp.dstport          0.055727\n",
      "dtype: float64\n"
     ]
    },
    {
     "data": {
      "image/png": "[encoded data removed]",
      "text/plain": [
       "<Figure size 800x600 with 1 Axes>"
      ]
     },
     "metadata": {},
     "output_type": "display_data"
    }
   ],
   "source": [
    "# Convert Attack_label to an integer (0 or 1)\n",
    "df[\"Attack_label\"] = df[\"Attack_label\"].astype(int)\n",
    "\n",
    "# Remove unnecessary columns\n",
    "df = df.drop([\"frame.time\", \"Attack_type\"], axis=1, errors=\"ignore\")\n",
    "\n",
    "# Convert categorical variables into numerical values\n",
    "for col in df.select_dtypes(include=[\"object\"]).columns:\n",
    "    df[col] = LabelEncoder().fit_transform(df[col])\n",
    "\n",
    "# Separate features and target variable\n",
    "X = df.drop(columns=[\"Attack_label\"])\n",
    "y = df[\"Attack_label\"]\n",
    "\n",
    "# Split data into train/test sets\n",
    "X_train, X_test, y_train, y_test = train_test_split(X, y, test_size=0.2, random_state=42)\n",
    "\n",
    "# Train a RandomForest model\n",
    "model = RandomForestClassifier(n_estimators=100, random_state=42)\n",
    "model.fit(X_train, y_train)\n",
    "\n",
    "# Get feature importance\n",
    "feature_importance = pd.Series(model.feature_importances_, index=X.columns).sort_values(ascending=False)\n",
    "\n",
    "# Display the top 7 most influential features\n",
    "print(feature_importance.head(7))\n",
    "\n",
    "# Plot feature importance\n",
    "plt.figure(figsize=(8,6))\n",
    "feature_importance.head(7).plot(kind=\"bar\")\n",
    "plt.title(\"Top 7 most influential columns in Attack_label\")\n",
    "plt.show()"
   ]
  },
  {
   "cell_type": "code",
   "execution_count": 8,
   "metadata": {},
   "outputs": [],
   "source": [
    "# Define the selected columns\n",
    "selected_columns = [\n",
    "    \"dns.qry.name.len\", \"mqtt.protoname\", \"mqtt.msg\", \"mqtt.topic\", \"mqtt.conack.flags\",\n",
    "    \"tcp.options\", \"tcp.dstport\"\n",
    "]"
   ]
  },
  {
   "cell_type": "markdown",
   "metadata": {},
   "source": [
    "## 6. CREATE BINARY PROMPTS FOR THE DATASET\n",
    "\n",
    "This section generates binary classification prompts using the 7 previously selected features.  \n",
    "The prompts will be stored in a JSON file and will follow the format expected for fine-tuning LLMs to distinguish between normal and attack traffic."
   ]
  },
  {
   "cell_type": "code",
   "execution_count": 9,
   "metadata": {},
   "outputs": [
    {
     "data": {
      "text/html": [
       "<div>\n",
       "<style scoped>\n",
       "    .dataframe tbody tr th:only-of-type {\n",
       "        vertical-align: middle;\n",
       "    }\n",
       "\n",
       "    .dataframe tbody tr th {\n",
       "        vertical-align: top;\n",
       "    }\n",
       "\n",
       "    .dataframe thead th {\n",
       "        text-align: right;\n",
       "    }\n",
       "</style>\n",
       "<table border=\"1\" class=\"dataframe\">\n",
       "  <thead>\n",
       "    <tr style=\"text-align: right;\">\n",
       "      <th></th>\n",
       "      <th>dns.qry.name.len</th>\n",
       "      <th>mqtt.protoname</th>\n",
       "      <th>mqtt.msg</th>\n",
       "      <th>mqtt.topic</th>\n",
       "      <th>mqtt.conack.flags</th>\n",
       "      <th>tcp.options</th>\n",
       "      <th>tcp.dstport</th>\n",
       "      <th>Attack_label</th>\n",
       "    </tr>\n",
       "  </thead>\n",
       "  <tbody>\n",
       "    <tr>\n",
       "      <th>0</th>\n",
       "      <td>0</td>\n",
       "      <td>0</td>\n",
       "      <td>0</td>\n",
       "      <td>0</td>\n",
       "      <td>0</td>\n",
       "      <td>020405b40101040201030307</td>\n",
       "      <td>64855.0</td>\n",
       "      <td>0</td>\n",
       "    </tr>\n",
       "    <tr>\n",
       "      <th>1</th>\n",
       "      <td>0</td>\n",
       "      <td>MQTT</td>\n",
       "      <td>0</td>\n",
       "      <td>0</td>\n",
       "      <td>0</td>\n",
       "      <td>0</td>\n",
       "      <td>1883.0</td>\n",
       "      <td>0</td>\n",
       "    </tr>\n",
       "    <tr>\n",
       "      <th>2</th>\n",
       "      <td>0</td>\n",
       "      <td>0</td>\n",
       "      <td>0</td>\n",
       "      <td>0</td>\n",
       "      <td>0</td>\n",
       "      <td>0</td>\n",
       "      <td>64855.0</td>\n",
       "      <td>0</td>\n",
       "    </tr>\n",
       "    <tr>\n",
       "      <th>3</th>\n",
       "      <td>0</td>\n",
       "      <td>0</td>\n",
       "      <td>0</td>\n",
       "      <td>0</td>\n",
       "      <td>0x00000000</td>\n",
       "      <td>0</td>\n",
       "      <td>64855.0</td>\n",
       "      <td>0</td>\n",
       "    </tr>\n",
       "    <tr>\n",
       "      <th>4</th>\n",
       "      <td>0</td>\n",
       "      <td>0</td>\n",
       "      <td>32342e36382037362e34320d0a</td>\n",
       "      <td>Temperature_and_Humidity</td>\n",
       "      <td>0</td>\n",
       "      <td>0</td>\n",
       "      <td>1883.0</td>\n",
       "      <td>0</td>\n",
       "    </tr>\n",
       "  </tbody>\n",
       "</table>\n",
       "</div>"
      ],
      "text/plain": [
       "  dns.qry.name.len mqtt.protoname                    mqtt.msg  \\\n",
       "0                0              0                           0   \n",
       "1                0           MQTT                           0   \n",
       "2                0              0                           0   \n",
       "3                0              0                           0   \n",
       "4                0              0  32342e36382037362e34320d0a   \n",
       "\n",
       "                 mqtt.topic mqtt.conack.flags               tcp.options  \\\n",
       "0                         0                 0  020405b40101040201030307   \n",
       "1                         0                 0                         0   \n",
       "2                         0                 0                         0   \n",
       "3                         0        0x00000000                         0   \n",
       "4  Temperature_and_Humidity                 0                         0   \n",
       "\n",
       "   tcp.dstport  Attack_label  \n",
       "0      64855.0             0  \n",
       "1       1883.0             0  \n",
       "2      64855.0             0  \n",
       "3      64855.0             0  \n",
       "4       1883.0             0  "
      ]
     },
     "execution_count": 9,
     "metadata": {},
     "output_type": "execute_result"
    }
   ],
   "source": [
    "# Filter the dataset to keep only these columns + target variable\n",
    "df_selected = df_bp[selected_columns + [\"Attack_label\"]]\n",
    "\n",
    "# Display the first few rows of the selected columns\n",
    "df_selected.head()"
   ]
  },
  {
   "cell_type": "code",
   "execution_count": 10,
   "metadata": {},
   "outputs": [
    {
     "data": {
      "image/png": "[encoded data removed]",
      "text/plain": [
       "<Figure size 640x480 with 1 Axes>"
      ]
     },
     "metadata": {},
     "output_type": "display_data"
    }
   ],
   "source": [
    "# Count occurrences of each class\n",
    "sns.countplot(x=df_selected[\"Attack_label\"])\n",
    "plt.title(\"Distribution of Normal vs. Attack Traffic\")\n",
    "plt.xlabel(\"Attack Label (0 = Normal, 1 = Attack)\")\n",
    "plt.ylabel(\"Count\")\n",
    "plt.show()"
   ]
  },
  {
   "cell_type": "code",
   "execution_count": 11,
   "metadata": {},
   "outputs": [],
   "source": [
    "# Select 6,000 samples for each class\n",
    "normal_samples = df_selected[df_selected[\"Attack_label\"] == 0].sample(n=6000, random_state=42)\n",
    "attack_samples = df_selected[df_selected[\"Attack_label\"] == 1].sample(n=6000, random_state=42)\n",
    "\n",
    "# Combine them into a new dataset\n",
    "df_balanced = pd.concat([normal_samples, attack_samples])\n",
    "\n",
    "# Shuffle the dataset\n",
    "df_balanced = df_balanced.sample(frac=1, random_state=42).reset_index(drop=True)"
   ]
  },
  {
   "cell_type": "code",
   "execution_count": 12,
   "metadata": {},
   "outputs": [
    {
     "data": {
      "image/png": "[encoded data removed]",
      "text/plain": [
       "<Figure size 640x480 with 1 Axes>"
      ]
     },
     "metadata": {},
     "output_type": "display_data"
    }
   ],
   "source": [
    "# Count occurrences of each class\n",
    "sns.countplot(x=df_balanced[\"Attack_label\"])\n",
    "plt.title(\"Distribution of Normal vs. Attack Traffic\")\n",
    "plt.xlabel(\"Attack Label (0 = Normal, 1 = Attack)\")\n",
    "plt.ylabel(\"Count\")\n",
    "plt.show()"
   ]
  },
  {
   "cell_type": "markdown",
   "metadata": {},
   "source": [
    "### Generate binary prompts"
   ]
  },
  {
   "cell_type": "code",
   "execution_count": null,
   "metadata": {},
   "outputs": [
    {
     "name": "stdout",
     "output_type": "stream",
     "text": [
      "Binary prompt dataset successfully saved at: ../../data/prompts/binary_instructions.jsonl\n"
     ]
    }
   ],
   "source": [
    "# Define the directory and filename for saving the dataset\n",
    "save_dir = \"../../data/prompts/\"\n",
    "save_filename = \"binary_instructions.jsonl\"\n",
    "save_path = os.path.join(save_dir, save_filename)\n",
    "\n",
    "# Ensure the directory exists\n",
    "os.makedirs(save_dir, exist_ok=True)\n",
    "\n",
    "# Define the prompt format\n",
    "prompt_style = \"\"\"Below is an instruction that describes a task, paired with an input that provides further context. Write a response that appropriately completes the request. Before answering, think carefully about the question and create a step-by-step chain of thoughts to ensure a logical and accurate response.\n",
    "### Instruction:\n",
    "You are a cybersecurity expert specializing in IoT security. Your task is to analyze network logs and determine whether the given log data indicates a potential attack. Only provide a response if this log data indicates a potential attack or normal traffic.\n",
    "### Question:\n",
    "{}\n",
    "### Response:\n",
    "<think>\n",
    "{}\n",
    "</think>\"\"\"\n",
    "\n",
    "# Column descriptions\n",
    "column_descriptions = {\n",
    "    \"dns.qry.name.len\": \"The length of the DNS query is:\",\n",
    "    \"mqtt.protoname\": \"The MQTT protocol name used is:\",\n",
    "    \"mqtt.msg\": \"The MQTT message type is:\",\n",
    "    \"mqtt.topic\": \"The MQTT topic is:\",\n",
    "    \"mqtt.conack.flags\": \"The MQTT connection acknowledgment flags are:\",\n",
    "    \"tcp.options\": \"TCP options set in the packet are:\",\n",
    "    \"tcp.dstport\": \"TCP destination port is:\"\n",
    "}\n",
    "\n",
    "# Ensure df_balanced exists\n",
    "if 'df_balanced' not in locals():\n",
    "    raise ValueError(\"The dataset 'df_balanced' is not defined. Make sure to create it before running this script.\")\n",
    "\n",
    "# Function to create structured prompts\n",
    "def create_prompt(features, label):\n",
    "    log_details = \"\\n\".join([f\"- {column_descriptions.get(col, col)} {features[col]}\" for col in features.index])\n",
    "    label_text = \"This log data is normal traffic.\" if int(label) == 0 else \"This log data is an attack!!.\"\n",
    "    return prompt_style.format(log_details, label_text)\n",
    "\n",
    "# Generate prompts for each row\n",
    "df_balanced[\"Prompt\"] = df_balanced.apply(lambda row: create_prompt(row.drop(\"Attack_label\"), row[\"Attack_label\"]), axis=1)\n",
    "\n",
    "# Save dataset in JSONL format\n",
    "df_balanced[[\"Prompt\"]].to_json(save_path, orient=\"records\", lines=True, force_ascii=False)\n",
    "\n",
    "# Confirm file creation\n",
    "print(f\"Binary prompt dataset successfully saved at: {save_path}\")"
   ]
  },
  {
   "cell_type": "markdown",
   "metadata": {},
   "source": [
    "## 7. CREATE MULTICLASS PROMPTS FOR THE DATASET\n",
    "\n",
    "This section generates multiclass classification prompts using the 7 previously selected features.  \n",
    "The prompts will be saved in a JSON file and used for fine-tuning LLMs to identify the specific type of attack present in each input sample.\n"
   ]
  },
  {
   "cell_type": "code",
   "execution_count": null,
   "metadata": {},
   "outputs": [],
   "source": [
    "# Create a new DataFrame with the selected columns and the target variable for multiclass classification \n",
    "df_selected_multiclass = df_bp[selected_columns + [\"Attack_type\"]]"
   ]
  },
  {
   "cell_type": "code",
   "execution_count": 15,
   "metadata": {},
   "outputs": [
    {
     "name": "stderr",
     "output_type": "stream",
     "text": [
      "/tmp/ipykernel_14438/407618372.py:15: DeprecationWarning: DataFrameGroupBy.apply operated on the grouping columns. This behavior is deprecated, and in a future version of pandas the grouping columns will be excluded from the operation. Either pass `include_groups=False` to exclude the groupings or explicitly select the grouping columns after groupby to silence this warning.\n",
      "  attack_samples = df_selected_multiclass[df_selected_multiclass[\"Attack_type\"] != \"Normal\"].groupby(\"Attack_type\").apply(\n"
     ]
    }
   ],
   "source": [
    "# Define number of samples per class\n",
    "samples_per_class = 1000\n",
    "\n",
    "# Check if \"Attack_type\" exists in df_selected\n",
    "if \"Attack_type\" not in df_selected_multiclass.columns:\n",
    "    raise ValueError(\"Column 'Attack_type' not found in df_selected_multiclass. Check your DataFrame.\")\n",
    "\n",
    "# Select 1000 samples for \"Normal\" traffic\n",
    "normal_samples = df_selected_multiclass[df_selected_multiclass[\"Attack_type\"] == \"Normal\"].sample(\n",
    "    n=min(samples_per_class, len(df_selected_multiclass[df_selected_multiclass[\"Attack_type\"] == \"Normal\"])),\n",
    "    random_state=42\n",
    ")\n",
    "\n",
    "# Select 1000 samples for each attack type\n",
    "attack_samples = df_selected_multiclass[df_selected_multiclass[\"Attack_type\"] != \"Normal\"].groupby(\"Attack_type\").apply(\n",
    "    lambda x: x.sample(n=min(samples_per_class, len(x)), random_state=42)\n",
    ").reset_index(drop=True)\n",
    "\n",
    "# Combine normal and attack samples into a balanced dataset\n",
    "df_balanced = pd.concat([normal_samples, attack_samples])\n",
    "\n",
    "# Shuffle the dataset\n",
    "df_balanced = df_balanced.sample(frac=1, random_state=42).reset_index(drop=True)"
   ]
  },
  {
   "cell_type": "code",
   "execution_count": 16,
   "metadata": {},
   "outputs": [
    {
     "data": {
      "image/png": "[encoded data removed]",
      "text/plain": [
       "<Figure size 1600x600 with 1 Axes>"
      ]
     },
     "metadata": {},
     "output_type": "display_data"
    }
   ],
   "source": [
    "# Count occurrences of each class\n",
    "# Set a wider figure size\n",
    "plt.figure(figsize=(16, 6))\n",
    "\n",
    "# Count occurrences of each attack type\n",
    "sns.countplot(x=df_balanced[\"Attack_type\"])\n",
    "plt.title(\"Distribution of Attack Types\")\n",
    "plt.xlabel(\"Attack Type\")\n",
    "plt.ylabel(\"Count\")\n",
    "\n",
    "# Rotate x-axis labels by 45 degrees to prevent overlap\n",
    "plt.xticks(rotation=45, ha=\"right\")  # ha=\"right\" aligns labels better\n",
    "\n",
    "# Show the plot\n",
    "plt.show()"
   ]
  },
  {
   "cell_type": "markdown",
   "metadata": {},
   "source": [
    "### Generate multiclass prompts"
   ]
  },
  {
   "cell_type": "code",
   "execution_count": 17,
   "metadata": {},
   "outputs": [
    {
     "name": "stdout",
     "output_type": "stream",
     "text": [
      "Multi-class prompt dataset successfully saved at: ../../data/prompts/multiclass_instructions.jsonl\n"
     ]
    }
   ],
   "source": [
    "# Define the directory and filename\n",
    "save_dir = \"../../data/prompts/\"\n",
    "save_filename = \"multiclass_instructions.jsonl\"\n",
    "save_path = os.path.join(save_dir, save_filename)\n",
    "\n",
    "# Ensure the directory exists\n",
    "os.makedirs(save_dir, exist_ok=True)\n",
    "\n",
    "# Define the prompt format for multi-class classification\n",
    "prompt_style = \"\"\"Below is an instruction that describes a task, paired with an input that provides further context. Write a response that appropriately completes the request. Before answering, think carefully about the question and create a step-by-step chain of thoughts to ensure a logical and accurate response.\n",
    "### Instruction:\n",
    "You are a cybersecurity expert specializing in IoT security. Your task is to analyze network logs and determine whether the given log data indicates a potential attack. Only provide the type of attack if it is an attack. If the log data is normal traffic, state that it is normal traffic.\n",
    "### Question:\n",
    "{}\n",
    "### Response:\n",
    "<think>\n",
    "{}\n",
    "</think>\"\"\"\n",
    "\n",
    "# Column descriptions for multi-class classification used in the prompt\n",
    "column_descriptions = {\n",
    "    \"dns.qry.name.len\": \"The length of the DNS query is:\",\n",
    "    \"mqtt.protoname\": \"The MQTT protocol name used is:\",\n",
    "    \"mqtt.msg\": \"The MQTT message type is:\",\n",
    "    \"mqtt.topic\": \"The MQTT topic is:\",\n",
    "    \"mqtt.conack.flags\": \"The MQTT connection acknowledgment flags are:\",\n",
    "    \"tcp.options\": \"TCP options set in the packet are:\",\n",
    "    \"tcp.dstport\": \"TCP destination port is:\"\n",
    "}\n",
    "\n",
    "# Ensure df_balanced exists\n",
    "if 'df_balanced' not in locals():\n",
    "    raise ValueError(\"The dataset 'df_balanced' is not defined. Make sure to create it before running this script.\")\n",
    "\n",
    "# Function to create structured prompts for attack classification\n",
    "def create_prompt(features, label):\n",
    "    log_details = \"\\n\".join([f\"- {column_descriptions.get(col, col)} {features[col]}\" for col in features.index])\n",
    "    \n",
    "    # Assign attack type correctly\n",
    "    if label.lower() == \"normal\":\n",
    "        label_text = \"This log data is normal traffic.\"\n",
    "    else:\n",
    "        label_text = f\"This log data is an attack!! The type of attack detected is {label}.\"\n",
    "\n",
    "    return prompt_style.format(log_details, label_text)\n",
    "\n",
    "# Generate structured prompts for each log entry\n",
    "df_balanced[\"Prompt\"] = df_balanced.apply(lambda row: create_prompt(row.drop(\"Attack_type\"), row[\"Attack_type\"]), axis=1)\n",
    "\n",
    "# Save dataset in JSONL format\n",
    "df_balanced[[\"Prompt\"]].to_json(save_path, orient=\"records\", lines=True, force_ascii=False)\n",
    "\n",
    "print(f\"Multi-class prompt dataset successfully saved at: {save_path}\")\n"
   ]
  }
 ],
 "metadata": {
  "accelerator": "GPU",
  "colab": {
   "gpuType": "T4",
   "provenance": []
  },
  "kernelspec": {
   "display_name": "threatlogllm",
   "language": "python",
   "name": "python3"
  },
  "language_info": {
   "codemirror_mode": {
    "name": "ipython",
    "version": 3
   },
   "file_extension": ".py",
   "mimetype": "text/x-python",
   "name": "python",
   "nbconvert_exporter": "python",
   "pygments_lexer": "ipython3",
   "version": "3.12.3"
  }
 },
 "nbformat": 4,
 "nbformat_minor": 0
}
